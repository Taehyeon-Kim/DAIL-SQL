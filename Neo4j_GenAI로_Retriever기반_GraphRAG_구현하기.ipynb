{
  "nbformat": 4,
  "nbformat_minor": 0,
  "metadata": {
    "colab": {
      "provenance": [],
      "include_colab_link": true
    },
    "kernelspec": {
      "name": "python3",
      "display_name": "Python 3"
    },
    "language_info": {
      "name": "python"
    }
  },
  "cells": [
    {
      "cell_type": "markdown",
      "metadata": {
        "id": "view-in-github",
        "colab_type": "text"
      },
      "source": [
        "<a href=\"https://colab.research.google.com/github/Taehyeon-Kim/DAIL-SQL/blob/main/Neo4j_GenAI%EB%A1%9C_Retriever%EA%B8%B0%EB%B0%98_GraphRAG_%EA%B5%AC%ED%98%84%ED%95%98%EA%B8%B0.ipynb\" target=\"_parent\"><img src=\"https://colab.research.google.com/assets/colab-badge.svg\" alt=\"Open In Colab\"/></a>"
      ]
    },
    {
      "cell_type": "markdown",
      "source": [
        "## 0. 환경 설정"
      ],
      "metadata": {
        "id": "13RfDLhyPNkX"
      }
    },
    {
      "cell_type": "code",
      "source": [
        "!pip install neo4j-graphrag neo4j openai"
      ],
      "metadata": {
        "colab": {
          "base_uri": "https://localhost:8080/"
        },
        "collapsed": true,
        "id": "Db2sh3701xu-",
        "outputId": "08a95d3a-77c4-43f8-ea3b-5466c98979e4"
      },
      "execution_count": null,
      "outputs": [
        {
          "output_type": "stream",
          "name": "stdout",
          "text": [
            "Collecting neo4j-genai\n",
            "  Downloading neo4j_genai-0.4.0-py3-none-any.whl.metadata (8.8 kB)\n",
            "Collecting neo4j\n",
            "  Downloading neo4j-5.24.0-py3-none-any.whl.metadata (5.7 kB)\n",
            "Collecting openai\n",
            "  Downloading openai-1.43.0-py3-none-any.whl.metadata (22 kB)\n",
            "Requirement already satisfied: eval-type-backport<0.3.0,>=0.2.0 in /usr/local/lib/python3.10/dist-packages (from neo4j-genai) (0.2.0)\n",
            "Requirement already satisfied: pydantic<3.0.0,>=2.6.3 in /usr/local/lib/python3.10/dist-packages (from neo4j-genai) (2.8.2)\n",
            "Collecting types-mock<6.0.0.0,>=5.1.0.20240425 (from neo4j-genai)\n",
            "  Downloading types_mock-5.1.0.20240425-py3-none-any.whl.metadata (1.5 kB)\n",
            "Collecting types-requests<3.0.0.0,>=2.31.0.20240218 (from neo4j-genai)\n",
            "  Downloading types_requests-2.32.0.20240712-py3-none-any.whl.metadata (1.9 kB)\n",
            "Requirement already satisfied: pytz in /usr/local/lib/python3.10/dist-packages (from neo4j) (2024.1)\n",
            "Requirement already satisfied: anyio<5,>=3.5.0 in /usr/local/lib/python3.10/dist-packages (from openai) (3.7.1)\n",
            "Requirement already satisfied: distro<2,>=1.7.0 in /usr/lib/python3/dist-packages (from openai) (1.7.0)\n",
            "Collecting httpx<1,>=0.23.0 (from openai)\n",
            "  Downloading httpx-0.27.2-py3-none-any.whl.metadata (7.1 kB)\n",
            "Collecting jiter<1,>=0.4.0 (from openai)\n",
            "  Downloading jiter-0.5.0-cp310-cp310-manylinux_2_17_x86_64.manylinux2014_x86_64.whl.metadata (3.6 kB)\n",
            "Requirement already satisfied: sniffio in /usr/local/lib/python3.10/dist-packages (from openai) (1.3.1)\n",
            "Requirement already satisfied: tqdm>4 in /usr/local/lib/python3.10/dist-packages (from openai) (4.66.5)\n",
            "Requirement already satisfied: typing-extensions<5,>=4.11 in /usr/local/lib/python3.10/dist-packages (from openai) (4.12.2)\n",
            "Requirement already satisfied: idna>=2.8 in /usr/local/lib/python3.10/dist-packages (from anyio<5,>=3.5.0->openai) (3.8)\n",
            "Requirement already satisfied: exceptiongroup in /usr/local/lib/python3.10/dist-packages (from anyio<5,>=3.5.0->openai) (1.2.2)\n",
            "Requirement already satisfied: certifi in /usr/local/lib/python3.10/dist-packages (from httpx<1,>=0.23.0->openai) (2024.7.4)\n",
            "Collecting httpcore==1.* (from httpx<1,>=0.23.0->openai)\n",
            "  Downloading httpcore-1.0.5-py3-none-any.whl.metadata (20 kB)\n",
            "Collecting h11<0.15,>=0.13 (from httpcore==1.*->httpx<1,>=0.23.0->openai)\n",
            "  Downloading h11-0.14.0-py3-none-any.whl.metadata (8.2 kB)\n",
            "Requirement already satisfied: annotated-types>=0.4.0 in /usr/local/lib/python3.10/dist-packages (from pydantic<3.0.0,>=2.6.3->neo4j-genai) (0.7.0)\n",
            "Requirement already satisfied: pydantic-core==2.20.1 in /usr/local/lib/python3.10/dist-packages (from pydantic<3.0.0,>=2.6.3->neo4j-genai) (2.20.1)\n",
            "Requirement already satisfied: urllib3>=2 in /usr/local/lib/python3.10/dist-packages (from types-requests<3.0.0.0,>=2.31.0.20240218->neo4j-genai) (2.0.7)\n",
            "Downloading neo4j_genai-0.4.0-py3-none-any.whl (59 kB)\n",
            "\u001b[2K   \u001b[90m━━━━━━━━━━━━━━━━━━━━━━━━━━━━━━━━━━━━━━━━\u001b[0m \u001b[32m59.7/59.7 kB\u001b[0m \u001b[31m2.2 MB/s\u001b[0m eta \u001b[36m0:00:00\u001b[0m\n",
            "\u001b[?25hDownloading neo4j-5.24.0-py3-none-any.whl (294 kB)\n",
            "\u001b[2K   \u001b[90m━━━━━━━━━━━━━━━━━━━━━━━━━━━━━━━━━━━━━━━━\u001b[0m \u001b[32m294.6/294.6 kB\u001b[0m \u001b[31m10.9 MB/s\u001b[0m eta \u001b[36m0:00:00\u001b[0m\n",
            "\u001b[?25hDownloading openai-1.43.0-py3-none-any.whl (365 kB)\n",
            "\u001b[2K   \u001b[90m━━━━━━━━━━━━━━━━━━━━━━━━━━━━━━━━━━━━━━━━\u001b[0m \u001b[32m365.7/365.7 kB\u001b[0m \u001b[31m19.5 MB/s\u001b[0m eta \u001b[36m0:00:00\u001b[0m\n",
            "\u001b[?25hDownloading httpx-0.27.2-py3-none-any.whl (76 kB)\n",
            "\u001b[2K   \u001b[90m━━━━━━━━━━━━━━━━━━━━━━━━━━━━━━━━━━━━━━━━\u001b[0m \u001b[32m76.4/76.4 kB\u001b[0m \u001b[31m5.7 MB/s\u001b[0m eta \u001b[36m0:00:00\u001b[0m\n",
            "\u001b[?25hDownloading httpcore-1.0.5-py3-none-any.whl (77 kB)\n",
            "\u001b[2K   \u001b[90m━━━━━━━━━━━━━━━━━━━━━━━━━━━━━━━━━━━━━━━━\u001b[0m \u001b[32m77.9/77.9 kB\u001b[0m \u001b[31m4.4 MB/s\u001b[0m eta \u001b[36m0:00:00\u001b[0m\n",
            "\u001b[?25hDownloading jiter-0.5.0-cp310-cp310-manylinux_2_17_x86_64.manylinux2014_x86_64.whl (318 kB)\n",
            "\u001b[2K   \u001b[90m━━━━━━━━━━━━━━━━━━━━━━━━━━━━━━━━━━━━━━━━\u001b[0m \u001b[32m318.9/318.9 kB\u001b[0m \u001b[31m21.5 MB/s\u001b[0m eta \u001b[36m0:00:00\u001b[0m\n",
            "\u001b[?25hDownloading types_mock-5.1.0.20240425-py3-none-any.whl (5.7 kB)\n",
            "Downloading types_requests-2.32.0.20240712-py3-none-any.whl (15 kB)\n",
            "Downloading h11-0.14.0-py3-none-any.whl (58 kB)\n",
            "\u001b[2K   \u001b[90m━━━━━━━━━━━━━━━━━━━━━━━━━━━━━━━━━━━━━━━━\u001b[0m \u001b[32m58.3/58.3 kB\u001b[0m \u001b[31m3.6 MB/s\u001b[0m eta \u001b[36m0:00:00\u001b[0m\n",
            "\u001b[?25hInstalling collected packages: types-requests, types-mock, neo4j, jiter, h11, httpcore, neo4j-genai, httpx, openai\n",
            "Successfully installed h11-0.14.0 httpcore-1.0.5 httpx-0.27.2 jiter-0.5.0 neo4j-5.24.0 neo4j-genai-0.4.0 openai-1.43.0 types-mock-5.1.0.20240425 types-requests-2.32.0.20240712\n"
          ]
        }
      ]
    },
    {
      "cell_type": "markdown",
      "source": [
        "API 로그인 > API Key 생성 : https://openai.com/chatgpt/"
      ],
      "metadata": {
        "id": "MKW-bdgH18WC"
      }
    },
    {
      "cell_type": "code",
      "source": [
        "import os\n",
        "os.environ[\"OPENAI_API_KEY\"] = \"sk-...\""
      ],
      "metadata": {
        "id": "mxVWhyMb2A1s"
      },
      "execution_count": null,
      "outputs": []
    },
    {
      "cell_type": "markdown",
      "source": [
        "## 1. GraphDB 불러오기"
      ],
      "metadata": {
        "id": "9_0oQo-APS7f"
      }
    },
    {
      "cell_type": "markdown",
      "source": [
        "Neo4j Sandbox : https://sandbox.neo4j.com/"
      ],
      "metadata": {
        "id": "T2MzCTpQ2Ihk"
      }
    },
    {
      "cell_type": "markdown",
      "source": [
        "### 1-1. Neo4j 드라이버 설정"
      ],
      "metadata": {
        "id": "le_Pfi0pPVjj"
      }
    },
    {
      "cell_type": "code",
      "source": [
        "from neo4j import GraphDatabase, basic_auth\n",
        "import openai\n",
        "\n",
        "driver = GraphDatabase.driver(\n",
        "  \"neo4j://52.91.251.109:7687\",\n",
        "  auth=basic_auth(\"neo4j\", \"rest-cast-tackles\"))"
      ],
      "metadata": {
        "id": "5CDkAq8YPY-e"
      },
      "execution_count": null,
      "outputs": []
    },
    {
      "cell_type": "markdown",
      "source": [
        "```cypher\n",
        "MATCH (m:Movie {title:$movie})<-[:RATED]-(u:User)-[:RATED]->(rec:Movie)\n",
        "RETURN distinct rec.title AS recommendation LIMIT 20\n",
        "```\n",
        "\n",
        "- `(m:Movie {title:$movie})` : title이 $movie 인 노드\n",
        "- `(rec:Movie)` : 이 노드는 rec이라는 변수로 지정\n",
        "- `RETURN distinct rec.title` : rec 변수에 있는 노드의 title을 RETURN\n",
        "\n"
      ],
      "metadata": {
        "id": "-eQDxOSx2XSh"
      }
    },
    {
      "cell_type": "code",
      "source": [
        "cypher_query = '''\n",
        "MATCH (m:Movie {title:$movie})<-[:RATED]-(u:User)-[:RATED]->(rec:Movie)\n",
        "RETURN distinct rec.title AS recommendation LIMIT 20\n",
        "'''\n",
        "\n",
        "with driver.session(database=\"neo4j\") as session:\n",
        "  results = session.read_transaction(\n",
        "    lambda tx: tx.run(cypher_query,\n",
        "                      movie=\"Crimson Tide\").data())\n",
        "  for record in results:\n",
        "    print(record['recommendation'])\n",
        "\n",
        "#driver.close()"
      ],
      "metadata": {
        "colab": {
          "base_uri": "https://localhost:8080/"
        },
        "id": "mTI3Q6qe00rw",
        "outputId": "069904e3-99c8-4a16-80a8-eb50c5d94f37"
      },
      "execution_count": null,
      "outputs": [
        {
          "output_type": "stream",
          "name": "stderr",
          "text": [
            "<ipython-input-4-18901dc9fb7f>:7: DeprecationWarning: read_transaction has been renamed to execute_read\n",
            "  results = session.read_transaction(\n"
          ]
        },
        {
          "output_type": "stream",
          "name": "stdout",
          "text": [
            "Mr. Holland's Opus\n",
            "Apollo 13\n",
            "Dead Man Walking\n",
            "Seven (a.k.a. Se7en)\n",
            "Heat\n",
            "Get Shorty\n",
            "Fugitive, The\n",
            "Dave\n",
            "Addams Family Values\n",
            "True Lies\n",
            "Speed\n",
            "Lion King, The\n",
            "Four Weddings and a Funeral\n",
            "Forrest Gump\n",
            "Star Trek: Generations\n",
            "Shawshank Redemption, The\n",
            "Stargate\n",
            "Pulp Fiction\n",
            "Outbreak\n",
            "Miracle on 34th Street\n"
          ]
        }
      ]
    },
    {
      "cell_type": "markdown",
      "source": [
        "## 2. Plot(줄거리) 임베딩 추가\n",
        "\n",
        "- Retriever 목표 : 줄거리 내용으로 검색해서 비슷한 내용의 영화 찾기\n",
        "\n",
        "How? 벡터 검색"
      ],
      "metadata": {
        "id": "7UHTjrkZPfFE"
      }
    },
    {
      "cell_type": "markdown",
      "source": [
        "### 2-1. 텍스트 to 임베딩 벡터 (OpenAI 임베딩 모델)"
      ],
      "metadata": {
        "id": "8dpi-2M8P1PW"
      }
    },
    {
      "cell_type": "code",
      "source": [
        "def generate_embedding(text):\n",
        "    embedding = openai.embeddings.create(input = [text], model='text-embedding-ada-002').data[0].embedding\n",
        "    return embedding"
      ],
      "metadata": {
        "id": "sA1RYap-PdDX"
      },
      "execution_count": null,
      "outputs": []
    },
    {
      "cell_type": "code",
      "source": [
        "def add_embedding_to_movie(tx):\n",
        "    \"\"\"모든 Movie 노드의 plot을 임베딩하고, 그 값을 embedding 속성에 추가\"\"\"\n",
        "    result = tx.run(\"MATCH (m:Movie) WHERE m.plot IS NOT NULL RETURN m.title AS title, m.plot AS plot, ID(m) AS id LIMIT 100\")\n",
        "    cnt = 0\n",
        "    for record in result:\n",
        "        cnt += 1\n",
        "        print(cnt)\n",
        "        title = record[\"title\"]\n",
        "        plot = record[\"plot\"]\n",
        "        node_id = record[\"id\"]\n",
        "        print(plot)\n",
        "        print(\"=================\")\n",
        "        embedding = generate_embedding(plot)\n",
        "        # 임베딩 벡터를 Neo4j에 저장\n",
        "        tx.run(\"MATCH (m:Movie) WHERE ID(m) = $id SET m.plotEmbedding = $embedding\", id=node_id, embedding=embedding)\n",
        "        print(f\"Updated movie '{title}' with embedding.\")\n",
        "\n",
        "with driver.session() as session:\n",
        "    session.write_transaction(add_embedding_to_movie)"
      ],
      "metadata": {
        "colab": {
          "base_uri": "https://localhost:8080/"
        },
        "id": "j_BlQZK4HH63",
        "outputId": "04e9319b-15da-4a41-a0e0-353ca0645d34"
      },
      "execution_count": null,
      "outputs": [
        {
          "output_type": "stream",
          "name": "stderr",
          "text": [
            "<ipython-input-6-b710e4918a7a>:19: DeprecationWarning: write_transaction has been renamed to execute_write\n",
            "  session.write_transaction(add_embedding_to_movie)\n"
          ]
        },
        {
          "output_type": "stream",
          "name": "stdout",
          "text": [
            "1\n",
            "A cowboy doll is profoundly threatened and jealous when a new spaceman figure supplants him as top toy in a boy's room.\n",
            "=================\n"
          ]
        },
        {
          "output_type": "stream",
          "name": "stderr",
          "text": [
            "WARNING:neo4j.notifications:Received notification from DBMS server: {severity: WARNING} {code: Neo.ClientNotification.Statement.FeatureDeprecationWarning} {category: DEPRECATION} {title: This feature is deprecated and will be removed in future versions.} {description: The query used a deprecated function: `id`.} {position: line: 1, column: 83, offset: 82} for query: 'MATCH (m:Movie) WHERE m.plot IS NOT NULL RETURN m.title AS title, m.plot AS plot, ID(m) AS id LIMIT 100'\n",
            "WARNING:neo4j.notifications:Received notification from DBMS server: {severity: WARNING} {code: Neo.ClientNotification.Statement.FeatureDeprecationWarning} {category: DEPRECATION} {title: This feature is deprecated and will be removed in future versions.} {description: The query used a deprecated function: `id`.} {position: line: 1, column: 23, offset: 22} for query: 'MATCH (m:Movie) WHERE ID(m) = $id SET m.plotEmbedding = $embedding'\n"
          ]
        },
        {
          "output_type": "stream",
          "name": "stdout",
          "text": [
            "Updated movie 'Toy Story' with embedding.\n",
            "2\n",
            "When two kids find and play a magical board game, they release a man trapped for decades in it and a host of dangers that can only be stopped by finishing the game.\n",
            "=================\n"
          ]
        },
        {
          "output_type": "stream",
          "name": "stderr",
          "text": [
            "WARNING:neo4j.notifications:Received notification from DBMS server: {severity: WARNING} {code: Neo.ClientNotification.Statement.FeatureDeprecationWarning} {category: DEPRECATION} {title: This feature is deprecated and will be removed in future versions.} {description: The query used a deprecated function: `id`.} {position: line: 1, column: 23, offset: 22} for query: 'MATCH (m:Movie) WHERE ID(m) = $id SET m.plotEmbedding = $embedding'\n"
          ]
        },
        {
          "output_type": "stream",
          "name": "stdout",
          "text": [
            "Updated movie 'Jumanji' with embedding.\n",
            "3\n",
            "John and Max resolve to save their beloved bait shop from turning into an Italian restaurant, just as its new female owner catches Max's attention.\n",
            "=================\n"
          ]
        },
        {
          "output_type": "stream",
          "name": "stderr",
          "text": [
            "WARNING:neo4j.notifications:Received notification from DBMS server: {severity: WARNING} {code: Neo.ClientNotification.Statement.FeatureDeprecationWarning} {category: DEPRECATION} {title: This feature is deprecated and will be removed in future versions.} {description: The query used a deprecated function: `id`.} {position: line: 1, column: 23, offset: 22} for query: 'MATCH (m:Movie) WHERE ID(m) = $id SET m.plotEmbedding = $embedding'\n"
          ]
        },
        {
          "output_type": "stream",
          "name": "stdout",
          "text": [
            "Updated movie 'Grumpier Old Men' with embedding.\n",
            "4\n",
            "Based on Terry McMillan's novel, this film follows four very different African-American women and their relationships with the male gender.\n",
            "=================\n",
            "Updated movie 'Waiting to Exhale' with embedding.\n",
            "5\n",
            "In this sequel, George Banks deals not only with the pregnancy of his daughter, but also with the unexpected pregnancy of his wife.\n",
            "=================\n"
          ]
        },
        {
          "output_type": "stream",
          "name": "stderr",
          "text": [
            "WARNING:neo4j.notifications:Received notification from DBMS server: {severity: WARNING} {code: Neo.ClientNotification.Statement.FeatureDeprecationWarning} {category: DEPRECATION} {title: This feature is deprecated and will be removed in future versions.} {description: The query used a deprecated function: `id`.} {position: line: 1, column: 23, offset: 22} for query: 'MATCH (m:Movie) WHERE ID(m) = $id SET m.plotEmbedding = $embedding'\n",
            "WARNING:neo4j.notifications:Received notification from DBMS server: {severity: WARNING} {code: Neo.ClientNotification.Statement.FeatureDeprecationWarning} {category: DEPRECATION} {title: This feature is deprecated and will be removed in future versions.} {description: The query used a deprecated function: `id`.} {position: line: 1, column: 23, offset: 22} for query: 'MATCH (m:Movie) WHERE ID(m) = $id SET m.plotEmbedding = $embedding'\n"
          ]
        },
        {
          "output_type": "stream",
          "name": "stdout",
          "text": [
            "Updated movie 'Father of the Bride Part II' with embedding.\n",
            "6\n",
            "A group of professional bank robbers start to feel the heat from police when they unknowingly leave a clue at their latest heist.\n",
            "=================\n"
          ]
        },
        {
          "output_type": "stream",
          "name": "stderr",
          "text": [
            "WARNING:neo4j.notifications:Received notification from DBMS server: {severity: WARNING} {code: Neo.ClientNotification.Statement.FeatureDeprecationWarning} {category: DEPRECATION} {title: This feature is deprecated and will be removed in future versions.} {description: The query used a deprecated function: `id`.} {position: line: 1, column: 23, offset: 22} for query: 'MATCH (m:Movie) WHERE ID(m) = $id SET m.plotEmbedding = $embedding'\n"
          ]
        },
        {
          "output_type": "stream",
          "name": "stdout",
          "text": [
            "Updated movie 'Heat' with embedding.\n",
            "7\n",
            "An ugly duckling having undergone a remarkable change, still harbors feelings for her crush: a carefree playboy, but not before his business-focused brother has something to say about it.\n",
            "=================\n",
            "Updated movie 'Sabrina' with embedding.\n",
            "8\n",
            "Tom and Huck witness Injun Joe's killing of Doc Robinson one night at the graveyard. When an innocent man is accused of killing the Doc, Tom steps up as a witness, not respecting the promise made to Huck to lay low.\n",
            "=================\n"
          ]
        },
        {
          "output_type": "stream",
          "name": "stderr",
          "text": [
            "WARNING:neo4j.notifications:Received notification from DBMS server: {severity: WARNING} {code: Neo.ClientNotification.Statement.FeatureDeprecationWarning} {category: DEPRECATION} {title: This feature is deprecated and will be removed in future versions.} {description: The query used a deprecated function: `id`.} {position: line: 1, column: 23, offset: 22} for query: 'MATCH (m:Movie) WHERE ID(m) = $id SET m.plotEmbedding = $embedding'\n",
            "WARNING:neo4j.notifications:Received notification from DBMS server: {severity: WARNING} {code: Neo.ClientNotification.Statement.FeatureDeprecationWarning} {category: DEPRECATION} {title: This feature is deprecated and will be removed in future versions.} {description: The query used a deprecated function: `id`.} {position: line: 1, column: 23, offset: 22} for query: 'MATCH (m:Movie) WHERE ID(m) = $id SET m.plotEmbedding = $embedding'\n"
          ]
        },
        {
          "output_type": "stream",
          "name": "stdout",
          "text": [
            "Updated movie 'Tom and Huck' with embedding.\n",
            "9\n",
            "A former fireman takes on a group of terrorists holding the Vice President and others hostage during the seventh game of the NHL Stanley Cup finals.\n",
            "=================\n",
            "Updated movie 'Sudden Death' with embedding.\n",
            "10\n",
            "James Bond teams up with the lone survivor of a destroyed Russian research center to stop the hijacking of a nuclear space weapon by a fellow agent formerly believed to be dead.\n",
            "=================\n"
          ]
        },
        {
          "output_type": "stream",
          "name": "stderr",
          "text": [
            "WARNING:neo4j.notifications:Received notification from DBMS server: {severity: WARNING} {code: Neo.ClientNotification.Statement.FeatureDeprecationWarning} {category: DEPRECATION} {title: This feature is deprecated and will be removed in future versions.} {description: The query used a deprecated function: `id`.} {position: line: 1, column: 23, offset: 22} for query: 'MATCH (m:Movie) WHERE ID(m) = $id SET m.plotEmbedding = $embedding'\n",
            "WARNING:neo4j.notifications:Received notification from DBMS server: {severity: WARNING} {code: Neo.ClientNotification.Statement.FeatureDeprecationWarning} {category: DEPRECATION} {title: This feature is deprecated and will be removed in future versions.} {description: The query used a deprecated function: `id`.} {position: line: 1, column: 23, offset: 22} for query: 'MATCH (m:Movie) WHERE ID(m) = $id SET m.plotEmbedding = $embedding'\n"
          ]
        },
        {
          "output_type": "stream",
          "name": "stdout",
          "text": [
            "Updated movie 'GoldenEye' with embedding.\n",
            "11\n",
            "Comedy-drama about a widowed U.S. president and a lobbyist who fall in love. It's all above-board, but politics is perception and sparks fly anyway.\n",
            "=================\n",
            "Updated movie 'American President, The' with embedding.\n",
            "12\n",
            "Mel Brooks' parody of the classic vampire story and its famous film adaptations.\n",
            "=================\n"
          ]
        },
        {
          "output_type": "stream",
          "name": "stderr",
          "text": [
            "WARNING:neo4j.notifications:Received notification from DBMS server: {severity: WARNING} {code: Neo.ClientNotification.Statement.FeatureDeprecationWarning} {category: DEPRECATION} {title: This feature is deprecated and will be removed in future versions.} {description: The query used a deprecated function: `id`.} {position: line: 1, column: 23, offset: 22} for query: 'MATCH (m:Movie) WHERE ID(m) = $id SET m.plotEmbedding = $embedding'\n",
            "WARNING:neo4j.notifications:Received notification from DBMS server: {severity: WARNING} {code: Neo.ClientNotification.Statement.FeatureDeprecationWarning} {category: DEPRECATION} {title: This feature is deprecated and will be removed in future versions.} {description: The query used a deprecated function: `id`.} {position: line: 1, column: 23, offset: 22} for query: 'MATCH (m:Movie) WHERE ID(m) = $id SET m.plotEmbedding = $embedding'\n"
          ]
        },
        {
          "output_type": "stream",
          "name": "stdout",
          "text": [
            "Updated movie 'Dracula: Dead and Loving It' with embedding.\n",
            "13\n",
            "An outcast half-wolf risks his life to prevent a deadly epidemic from ravaging Nome, Alaska.\n",
            "=================\n",
            "Updated movie 'Balto' with embedding.\n",
            "14\n",
            "A biographical story of former U.S. president Richard Milhous Nixon, from his days as a young boy to his eventual presidency which ended in shame.\n",
            "=================\n"
          ]
        },
        {
          "output_type": "stream",
          "name": "stderr",
          "text": [
            "WARNING:neo4j.notifications:Received notification from DBMS server: {severity: WARNING} {code: Neo.ClientNotification.Statement.FeatureDeprecationWarning} {category: DEPRECATION} {title: This feature is deprecated and will be removed in future versions.} {description: The query used a deprecated function: `id`.} {position: line: 1, column: 23, offset: 22} for query: 'MATCH (m:Movie) WHERE ID(m) = $id SET m.plotEmbedding = $embedding'\n",
            "WARNING:neo4j.notifications:Received notification from DBMS server: {severity: WARNING} {code: Neo.ClientNotification.Statement.FeatureDeprecationWarning} {category: DEPRECATION} {title: This feature is deprecated and will be removed in future versions.} {description: The query used a deprecated function: `id`.} {position: line: 1, column: 23, offset: 22} for query: 'MATCH (m:Movie) WHERE ID(m) = $id SET m.plotEmbedding = $embedding'\n"
          ]
        },
        {
          "output_type": "stream",
          "name": "stdout",
          "text": [
            "Updated movie 'Nixon' with embedding.\n",
            "15\n",
            "A female pirate and her companion race against their rivals to find a hidden island that contains a fabulous treasure.\n",
            "=================\n",
            "Updated movie 'Cutthroat Island' with embedding.\n",
            "16\n",
            "Greed, deception, money, power, and murder occur between two mobster best friends and a trophy wife over a gambling empire.\n",
            "=================\n"
          ]
        },
        {
          "output_type": "stream",
          "name": "stderr",
          "text": [
            "WARNING:neo4j.notifications:Received notification from DBMS server: {severity: WARNING} {code: Neo.ClientNotification.Statement.FeatureDeprecationWarning} {category: DEPRECATION} {title: This feature is deprecated and will be removed in future versions.} {description: The query used a deprecated function: `id`.} {position: line: 1, column: 23, offset: 22} for query: 'MATCH (m:Movie) WHERE ID(m) = $id SET m.plotEmbedding = $embedding'\n",
            "WARNING:neo4j.notifications:Received notification from DBMS server: {severity: WARNING} {code: Neo.ClientNotification.Statement.FeatureDeprecationWarning} {category: DEPRECATION} {title: This feature is deprecated and will be removed in future versions.} {description: The query used a deprecated function: `id`.} {position: line: 1, column: 23, offset: 22} for query: 'MATCH (m:Movie) WHERE ID(m) = $id SET m.plotEmbedding = $embedding'\n"
          ]
        },
        {
          "output_type": "stream",
          "name": "stdout",
          "text": [
            "Updated movie 'Casino' with embedding.\n",
            "17\n",
            "Rich Mr. Dashwood dies, leaving his second wife and her three daughters poor by the rules of inheritance. The two eldest daughters are the titular opposites.\n",
            "=================\n",
            "Updated movie 'Sense and Sensibility' with embedding.\n",
            "18\n",
            "Four interlocking tales that take place in a fading hotel on New Year's Eve.\n",
            "=================\n"
          ]
        },
        {
          "output_type": "stream",
          "name": "stderr",
          "text": [
            "WARNING:neo4j.notifications:Received notification from DBMS server: {severity: WARNING} {code: Neo.ClientNotification.Statement.FeatureDeprecationWarning} {category: DEPRECATION} {title: This feature is deprecated and will be removed in future versions.} {description: The query used a deprecated function: `id`.} {position: line: 1, column: 23, offset: 22} for query: 'MATCH (m:Movie) WHERE ID(m) = $id SET m.plotEmbedding = $embedding'\n",
            "WARNING:neo4j.notifications:Received notification from DBMS server: {severity: WARNING} {code: Neo.ClientNotification.Statement.FeatureDeprecationWarning} {category: DEPRECATION} {title: This feature is deprecated and will be removed in future versions.} {description: The query used a deprecated function: `id`.} {position: line: 1, column: 23, offset: 22} for query: 'MATCH (m:Movie) WHERE ID(m) = $id SET m.plotEmbedding = $embedding'\n"
          ]
        },
        {
          "output_type": "stream",
          "name": "stdout",
          "text": [
            "Updated movie 'Four Rooms' with embedding.\n",
            "19\n",
            "Ace Ventura, Pet Detective, returns from a spiritual quest to investigate the disappearance of a rare white bat, the sacred animal of a tribe in Africa.\n",
            "=================\n",
            "Updated movie 'Ace Ventura: When Nature Calls' with embedding.\n",
            "20\n",
            "A vengeful New York transit cop decides to steal a trainload of subway fares; his foster brother, a fellow cop, tries to protect him.\n",
            "=================\n"
          ]
        },
        {
          "output_type": "stream",
          "name": "stderr",
          "text": [
            "WARNING:neo4j.notifications:Received notification from DBMS server: {severity: WARNING} {code: Neo.ClientNotification.Statement.FeatureDeprecationWarning} {category: DEPRECATION} {title: This feature is deprecated and will be removed in future versions.} {description: The query used a deprecated function: `id`.} {position: line: 1, column: 23, offset: 22} for query: 'MATCH (m:Movie) WHERE ID(m) = $id SET m.plotEmbedding = $embedding'\n",
            "WARNING:neo4j.notifications:Received notification from DBMS server: {severity: WARNING} {code: Neo.ClientNotification.Statement.FeatureDeprecationWarning} {category: DEPRECATION} {title: This feature is deprecated and will be removed in future versions.} {description: The query used a deprecated function: `id`.} {position: line: 1, column: 23, offset: 22} for query: 'MATCH (m:Movie) WHERE ID(m) = $id SET m.plotEmbedding = $embedding'\n"
          ]
        },
        {
          "output_type": "stream",
          "name": "stdout",
          "text": [
            "Updated movie 'Money Train' with embedding.\n",
            "21\n",
            "A mobster travels to Hollywood to collect a debt and discovers that the movie business is much the same as his current job.\n",
            "=================\n",
            "Updated movie 'Get Shorty' with embedding.\n",
            "22\n",
            "An agoraphobic psychologist and a female detective must work together to take down a serial killer who copies serial killers from the past.\n",
            "=================\n"
          ]
        },
        {
          "output_type": "stream",
          "name": "stderr",
          "text": [
            "WARNING:neo4j.notifications:Received notification from DBMS server: {severity: WARNING} {code: Neo.ClientNotification.Statement.FeatureDeprecationWarning} {category: DEPRECATION} {title: This feature is deprecated and will be removed in future versions.} {description: The query used a deprecated function: `id`.} {position: line: 1, column: 23, offset: 22} for query: 'MATCH (m:Movie) WHERE ID(m) = $id SET m.plotEmbedding = $embedding'\n",
            "WARNING:neo4j.notifications:Received notification from DBMS server: {severity: WARNING} {code: Neo.ClientNotification.Statement.FeatureDeprecationWarning} {category: DEPRECATION} {title: This feature is deprecated and will be removed in future versions.} {description: The query used a deprecated function: `id`.} {position: line: 1, column: 23, offset: 22} for query: 'MATCH (m:Movie) WHERE ID(m) = $id SET m.plotEmbedding = $embedding'\n"
          ]
        },
        {
          "output_type": "stream",
          "name": "stdout",
          "text": [
            "Updated movie 'Copycat' with embedding.\n",
            "23\n",
            "Professional hit-man Robert Rath wants to fulfill a few more contracts before retiring but unscrupulous ambitious newcomer hit-man Miguel Bain keeps killing Rath's targets.\n",
            "=================\n",
            "Updated movie 'Assassins' with embedding.\n",
            "24\n",
            "A young bald albino boy with unique powers shakes up the rural community he lives in.\n",
            "=================\n"
          ]
        },
        {
          "output_type": "stream",
          "name": "stderr",
          "text": [
            "WARNING:neo4j.notifications:Received notification from DBMS server: {severity: WARNING} {code: Neo.ClientNotification.Statement.FeatureDeprecationWarning} {category: DEPRECATION} {title: This feature is deprecated and will be removed in future versions.} {description: The query used a deprecated function: `id`.} {position: line: 1, column: 23, offset: 22} for query: 'MATCH (m:Movie) WHERE ID(m) = $id SET m.plotEmbedding = $embedding'\n",
            "WARNING:neo4j.notifications:Received notification from DBMS server: {severity: WARNING} {code: Neo.ClientNotification.Statement.FeatureDeprecationWarning} {category: DEPRECATION} {title: This feature is deprecated and will be removed in future versions.} {description: The query used a deprecated function: `id`.} {position: line: 1, column: 23, offset: 22} for query: 'MATCH (m:Movie) WHERE ID(m) = $id SET m.plotEmbedding = $embedding'\n"
          ]
        },
        {
          "output_type": "stream",
          "name": "stdout",
          "text": [
            "Updated movie 'Powder' with embedding.\n",
            "25\n",
            "Ben Sanderson, an alcoholic Hollywood screenwriter who lost everything because of his drinking, arrives in Las Vegas to drink himself to death. There, he meets and forms an uneasy friendship and non-interference pact with prostitute Sera.\n",
            "=================\n",
            "Updated movie 'Leaving Las Vegas' with embedding.\n",
            "26\n",
            "The evil Iago pretends to be friend of Othello in order to manipulate him to serve his own end in the film version of this Shakespeare classic.\n",
            "=================\n"
          ]
        },
        {
          "output_type": "stream",
          "name": "stderr",
          "text": [
            "WARNING:neo4j.notifications:Received notification from DBMS server: {severity: WARNING} {code: Neo.ClientNotification.Statement.FeatureDeprecationWarning} {category: DEPRECATION} {title: This feature is deprecated and will be removed in future versions.} {description: The query used a deprecated function: `id`.} {position: line: 1, column: 23, offset: 22} for query: 'MATCH (m:Movie) WHERE ID(m) = $id SET m.plotEmbedding = $embedding'\n",
            "WARNING:neo4j.notifications:Received notification from DBMS server: {severity: WARNING} {code: Neo.ClientNotification.Statement.FeatureDeprecationWarning} {category: DEPRECATION} {title: This feature is deprecated and will be removed in future versions.} {description: The query used a deprecated function: `id`.} {position: line: 1, column: 23, offset: 22} for query: 'MATCH (m:Movie) WHERE ID(m) = $id SET m.plotEmbedding = $embedding'\n"
          ]
        },
        {
          "output_type": "stream",
          "name": "stdout",
          "text": [
            "Updated movie 'Othello' with embedding.\n",
            "27\n",
            "Four 12-year-old girls grow up together during an eventful small-town summer in 1970.\n",
            "=================\n",
            "Updated movie 'Now and Then' with embedding.\n",
            "28\n",
            "Eight years earlier, Anne Elliot, the daughter of a financially troubled aristocratic family, was persuaded to break off her engagement to Frederick Wentworth, a young seaman, who, though ...\n",
            "=================\n"
          ]
        },
        {
          "output_type": "stream",
          "name": "stderr",
          "text": [
            "WARNING:neo4j.notifications:Received notification from DBMS server: {severity: WARNING} {code: Neo.ClientNotification.Statement.FeatureDeprecationWarning} {category: DEPRECATION} {title: This feature is deprecated and will be removed in future versions.} {description: The query used a deprecated function: `id`.} {position: line: 1, column: 23, offset: 22} for query: 'MATCH (m:Movie) WHERE ID(m) = $id SET m.plotEmbedding = $embedding'\n",
            "WARNING:neo4j.notifications:Received notification from DBMS server: {severity: WARNING} {code: Neo.ClientNotification.Statement.FeatureDeprecationWarning} {category: DEPRECATION} {title: This feature is deprecated and will be removed in future versions.} {description: The query used a deprecated function: `id`.} {position: line: 1, column: 23, offset: 22} for query: 'MATCH (m:Movie) WHERE ID(m) = $id SET m.plotEmbedding = $embedding'\n"
          ]
        },
        {
          "output_type": "stream",
          "name": "stdout",
          "text": [
            "Updated movie 'Persuasion' with embedding.\n",
            "29\n",
            "A scientist in a surrealist society kidnaps children to steal their dreams, hoping that they slow his aging process.\n",
            "=================\n",
            "Updated movie 'City of Lost Children, The (Cité des enfants perdus, La)' with embedding.\n",
            "30\n",
            "A provincial boy related to a Shanghai crime family is recruited by his uncle into cosmopolitan Shanghai in the 1930s to be a servant to a ganglord's mistress.\n",
            "=================\n"
          ]
        },
        {
          "output_type": "stream",
          "name": "stderr",
          "text": [
            "WARNING:neo4j.notifications:Received notification from DBMS server: {severity: WARNING} {code: Neo.ClientNotification.Statement.FeatureDeprecationWarning} {category: DEPRECATION} {title: This feature is deprecated and will be removed in future versions.} {description: The query used a deprecated function: `id`.} {position: line: 1, column: 23, offset: 22} for query: 'MATCH (m:Movie) WHERE ID(m) = $id SET m.plotEmbedding = $embedding'\n",
            "WARNING:neo4j.notifications:Received notification from DBMS server: {severity: WARNING} {code: Neo.ClientNotification.Statement.FeatureDeprecationWarning} {category: DEPRECATION} {title: This feature is deprecated and will be removed in future versions.} {description: The query used a deprecated function: `id`.} {position: line: 1, column: 23, offset: 22} for query: 'MATCH (m:Movie) WHERE ID(m) = $id SET m.plotEmbedding = $embedding'\n"
          ]
        },
        {
          "output_type": "stream",
          "name": "stdout",
          "text": [
            "Updated movie 'Shanghai Triad (Yao a yao yao dao waipo qiao)' with embedding.\n",
            "31\n",
            "An ex-Marine turned teacher struggles to connect with her students in an inner city school.\n",
            "=================\n",
            "Updated movie 'Dangerous Minds' with embedding.\n",
            "32\n",
            "In a future world devastated by disease, a convict is sent back in time to gather information about the man-made virus that wiped out most of the human population on the planet.\n",
            "=================\n"
          ]
        },
        {
          "output_type": "stream",
          "name": "stderr",
          "text": [
            "WARNING:neo4j.notifications:Received notification from DBMS server: {severity: WARNING} {code: Neo.ClientNotification.Statement.FeatureDeprecationWarning} {category: DEPRECATION} {title: This feature is deprecated and will be removed in future versions.} {description: The query used a deprecated function: `id`.} {position: line: 1, column: 23, offset: 22} for query: 'MATCH (m:Movie) WHERE ID(m) = $id SET m.plotEmbedding = $embedding'\n",
            "WARNING:neo4j.notifications:Received notification from DBMS server: {severity: WARNING} {code: Neo.ClientNotification.Statement.FeatureDeprecationWarning} {category: DEPRECATION} {title: This feature is deprecated and will be removed in future versions.} {description: The query used a deprecated function: `id`.} {position: line: 1, column: 23, offset: 22} for query: 'MATCH (m:Movie) WHERE ID(m) = $id SET m.plotEmbedding = $embedding'\n"
          ]
        },
        {
          "output_type": "stream",
          "name": "stdout",
          "text": [
            "Updated movie 'Twelve Monkeys (a.k.a. 12 Monkeys)' with embedding.\n",
            "33\n",
            "Babe, a pig raised by sheepdogs, learns to herd sheep with a little help from Farmer Hoggett.\n",
            "=================\n",
            "Updated movie 'Babe' with embedding.\n",
            "34\n",
            "The platonic relationship between artist Dora Carrington and writer Lytton Strachey in the early 20th century.\n",
            "=================\n"
          ]
        },
        {
          "output_type": "stream",
          "name": "stderr",
          "text": [
            "WARNING:neo4j.notifications:Received notification from DBMS server: {severity: WARNING} {code: Neo.ClientNotification.Statement.FeatureDeprecationWarning} {category: DEPRECATION} {title: This feature is deprecated and will be removed in future versions.} {description: The query used a deprecated function: `id`.} {position: line: 1, column: 23, offset: 22} for query: 'MATCH (m:Movie) WHERE ID(m) = $id SET m.plotEmbedding = $embedding'\n",
            "WARNING:neo4j.notifications:Received notification from DBMS server: {severity: WARNING} {code: Neo.ClientNotification.Statement.FeatureDeprecationWarning} {category: DEPRECATION} {title: This feature is deprecated and will be removed in future versions.} {description: The query used a deprecated function: `id`.} {position: line: 1, column: 23, offset: 22} for query: 'MATCH (m:Movie) WHERE ID(m) = $id SET m.plotEmbedding = $embedding'\n"
          ]
        },
        {
          "output_type": "stream",
          "name": "stdout",
          "text": [
            "Updated movie 'Carrington' with embedding.\n",
            "35\n",
            "A nun, while comforting a convicted killer on death row, empathizes with both the killer and his victim's families.\n",
            "=================\n",
            "Updated movie 'Dead Man Walking' with embedding.\n",
            "36\n",
            "A young Russian boy, Thomas Minton, travels to New York as a passenger on a Russian freighter. Close to Ellis Island he gets off and thus starts his journey to America the same way as all ...\n",
            "=================\n"
          ]
        },
        {
          "output_type": "stream",
          "name": "stderr",
          "text": [
            "WARNING:neo4j.notifications:Received notification from DBMS server: {severity: WARNING} {code: Neo.ClientNotification.Statement.FeatureDeprecationWarning} {category: DEPRECATION} {title: This feature is deprecated and will be removed in future versions.} {description: The query used a deprecated function: `id`.} {position: line: 1, column: 23, offset: 22} for query: 'MATCH (m:Movie) WHERE ID(m) = $id SET m.plotEmbedding = $embedding'\n",
            "WARNING:neo4j.notifications:Received notification from DBMS server: {severity: WARNING} {code: Neo.ClientNotification.Statement.FeatureDeprecationWarning} {category: DEPRECATION} {title: This feature is deprecated and will be removed in future versions.} {description: The query used a deprecated function: `id`.} {position: line: 1, column: 23, offset: 22} for query: 'MATCH (m:Movie) WHERE ID(m) = $id SET m.plotEmbedding = $embedding'\n"
          ]
        },
        {
          "output_type": "stream",
          "name": "stdout",
          "text": [
            "Updated movie 'Across the Sea of Time' with embedding.\n",
            "37\n",
            "Alyssa (a rich girl) and Amanda (an orphan) are two little girls who are identical, but complete strangers, that accidentally meet one day. In an attempt to stop Alyssa's father from ...\n",
            "=================\n",
            "Updated movie 'It Takes Two' with embedding.\n",
            "38\n",
            "A rich high school student tries to boost a new pupil's popularity, but reckons without affairs of the heart getting in the way.\n",
            "=================\n"
          ]
        },
        {
          "output_type": "stream",
          "name": "stderr",
          "text": [
            "WARNING:neo4j.notifications:Received notification from DBMS server: {severity: WARNING} {code: Neo.ClientNotification.Statement.FeatureDeprecationWarning} {category: DEPRECATION} {title: This feature is deprecated and will be removed in future versions.} {description: The query used a deprecated function: `id`.} {position: line: 1, column: 23, offset: 22} for query: 'MATCH (m:Movie) WHERE ID(m) = $id SET m.plotEmbedding = $embedding'\n",
            "WARNING:neo4j.notifications:Received notification from DBMS server: {severity: WARNING} {code: Neo.ClientNotification.Statement.FeatureDeprecationWarning} {category: DEPRECATION} {title: This feature is deprecated and will be removed in future versions.} {description: The query used a deprecated function: `id`.} {position: line: 1, column: 23, offset: 22} for query: 'MATCH (m:Movie) WHERE ID(m) = $id SET m.plotEmbedding = $embedding'\n"
          ]
        },
        {
          "output_type": "stream",
          "name": "stdout",
          "text": [
            "Updated movie 'Clueless' with embedding.\n",
            "39\n",
            "A South-African preacher goes to search for his wayward son who has committed a crime in the big city.\n",
            "=================\n",
            "Updated movie 'Cry, the Beloved Country' with embedding.\n",
            "40\n",
            "The classic Shakespearean play about a murderously scheming king staged in an alternative fascist England setting.\n",
            "=================\n"
          ]
        },
        {
          "output_type": "stream",
          "name": "stderr",
          "text": [
            "WARNING:neo4j.notifications:Received notification from DBMS server: {severity: WARNING} {code: Neo.ClientNotification.Statement.FeatureDeprecationWarning} {category: DEPRECATION} {title: This feature is deprecated and will be removed in future versions.} {description: The query used a deprecated function: `id`.} {position: line: 1, column: 23, offset: 22} for query: 'MATCH (m:Movie) WHERE ID(m) = $id SET m.plotEmbedding = $embedding'\n",
            "WARNING:neo4j.notifications:Received notification from DBMS server: {severity: WARNING} {code: Neo.ClientNotification.Statement.FeatureDeprecationWarning} {category: DEPRECATION} {title: This feature is deprecated and will be removed in future versions.} {description: The query used a deprecated function: `id`.} {position: line: 1, column: 23, offset: 22} for query: 'MATCH (m:Movie) WHERE ID(m) = $id SET m.plotEmbedding = $embedding'\n"
          ]
        },
        {
          "output_type": "stream",
          "name": "stdout",
          "text": [
            "Updated movie 'Richard III' with embedding.\n",
            "41\n",
            "A Vietnam vet adjusts to life after the war while trying to support his family, but the chance of a better life may involve crime and bloodshed.\n",
            "=================\n"
          ]
        },
        {
          "output_type": "stream",
          "name": "stderr",
          "text": [
            "WARNING:neo4j.notifications:Received notification from DBMS server: {severity: WARNING} {code: Neo.ClientNotification.Statement.FeatureDeprecationWarning} {category: DEPRECATION} {title: This feature is deprecated and will be removed in future versions.} {description: The query used a deprecated function: `id`.} {position: line: 1, column: 23, offset: 22} for query: 'MATCH (m:Movie) WHERE ID(m) = $id SET m.plotEmbedding = $embedding'\n"
          ]
        },
        {
          "output_type": "stream",
          "name": "stdout",
          "text": [
            "Updated movie 'Dead Presidents' with embedding.\n",
            "42\n",
            "The exiled royal physician to King Charles II devotes himself to helping Londoners suffering from the plague, and in the process falls in love with an equally poor woman.\n",
            "=================\n"
          ]
        },
        {
          "output_type": "stream",
          "name": "stderr",
          "text": [
            "WARNING:neo4j.notifications:Received notification from DBMS server: {severity: WARNING} {code: Neo.ClientNotification.Statement.FeatureDeprecationWarning} {category: DEPRECATION} {title: This feature is deprecated and will be removed in future versions.} {description: The query used a deprecated function: `id`.} {position: line: 1, column: 23, offset: 22} for query: 'MATCH (m:Movie) WHERE ID(m) = $id SET m.plotEmbedding = $embedding'\n"
          ]
        },
        {
          "output_type": "stream",
          "name": "stdout",
          "text": [
            "Updated movie 'Restoration' with embedding.\n",
            "43\n",
            "Three unknowing martial artists are summoned to a mysterious island to compete in a tournament whose outcome will decide the fate of the world.\n",
            "=================\n"
          ]
        },
        {
          "output_type": "stream",
          "name": "stderr",
          "text": [
            "WARNING:neo4j.notifications:Received notification from DBMS server: {severity: WARNING} {code: Neo.ClientNotification.Statement.FeatureDeprecationWarning} {category: DEPRECATION} {title: This feature is deprecated and will be removed in future versions.} {description: The query used a deprecated function: `id`.} {position: line: 1, column: 23, offset: 22} for query: 'MATCH (m:Movie) WHERE ID(m) = $id SET m.plotEmbedding = $embedding'\n"
          ]
        },
        {
          "output_type": "stream",
          "name": "stdout",
          "text": [
            "Updated movie 'Mortal Kombat' with embedding.\n",
            "44\n",
            "Suzanne Stone is an aspiring TV personality who will do anything to be in the spotlight, including enlisting three teenagers to kill her husband.\n",
            "=================\n",
            "Updated movie 'To Die For' with embedding.\n",
            "45\n",
            "Bride-to-be Finn Dodd hears tales of romance and sorrow from her elders as they construct a quilt.\n",
            "=================\n"
          ]
        },
        {
          "output_type": "stream",
          "name": "stderr",
          "text": [
            "WARNING:neo4j.notifications:Received notification from DBMS server: {severity: WARNING} {code: Neo.ClientNotification.Statement.FeatureDeprecationWarning} {category: DEPRECATION} {title: This feature is deprecated and will be removed in future versions.} {description: The query used a deprecated function: `id`.} {position: line: 1, column: 23, offset: 22} for query: 'MATCH (m:Movie) WHERE ID(m) = $id SET m.plotEmbedding = $embedding'\n",
            "WARNING:neo4j.notifications:Received notification from DBMS server: {severity: WARNING} {code: Neo.ClientNotification.Statement.FeatureDeprecationWarning} {category: DEPRECATION} {title: This feature is deprecated and will be removed in future versions.} {description: The query used a deprecated function: `id`.} {position: line: 1, column: 23, offset: 22} for query: 'MATCH (m:Movie) WHERE ID(m) = $id SET m.plotEmbedding = $embedding'\n"
          ]
        },
        {
          "output_type": "stream",
          "name": "stdout",
          "text": [
            "Updated movie 'How to Make an American Quilt' with embedding.\n",
            "46\n",
            "Two detectives, a rookie and a veteran, hunt a serial killer who uses the seven deadly sins as his modus operandi.\n",
            "=================\n",
            "Updated movie 'Seven (a.k.a. Se7en)' with embedding.\n",
            "47\n",
            "An English soldier and the daughter of an Algonquin chief share a romance when English colonists invade seventeenth-century Virginia.\n",
            "=================\n"
          ]
        },
        {
          "output_type": "stream",
          "name": "stderr",
          "text": [
            "WARNING:neo4j.notifications:Received notification from DBMS server: {severity: WARNING} {code: Neo.ClientNotification.Statement.FeatureDeprecationWarning} {category: DEPRECATION} {title: This feature is deprecated and will be removed in future versions.} {description: The query used a deprecated function: `id`.} {position: line: 1, column: 23, offset: 22} for query: 'MATCH (m:Movie) WHERE ID(m) = $id SET m.plotEmbedding = $embedding'\n",
            "WARNING:neo4j.notifications:Received notification from DBMS server: {severity: WARNING} {code: Neo.ClientNotification.Statement.FeatureDeprecationWarning} {category: DEPRECATION} {title: This feature is deprecated and will be removed in future versions.} {description: The query used a deprecated function: `id`.} {position: line: 1, column: 23, offset: 22} for query: 'MATCH (m:Movie) WHERE ID(m) = $id SET m.plotEmbedding = $embedding'\n"
          ]
        },
        {
          "output_type": "stream",
          "name": "stdout",
          "text": [
            "Updated movie 'Pocahontas' with embedding.\n",
            "48\n",
            "An uptight and conservative woman, working on tenure as a literacy professor at a large urban university, finds herself strangely attracted to a free-spirited, liberal woman who works at a local carnival that comes to town.\n",
            "=================\n",
            "Updated movie 'When Night Is Falling' with embedding.\n",
            "49\n",
            "A sole survivor tells of the twisty events leading up to a horrific gun battle on a boat, which begin when five criminals meet at a seemingly random police lineup.\n",
            "=================\n"
          ]
        },
        {
          "output_type": "stream",
          "name": "stderr",
          "text": [
            "WARNING:neo4j.notifications:Received notification from DBMS server: {severity: WARNING} {code: Neo.ClientNotification.Statement.FeatureDeprecationWarning} {category: DEPRECATION} {title: This feature is deprecated and will be removed in future versions.} {description: The query used a deprecated function: `id`.} {position: line: 1, column: 23, offset: 22} for query: 'MATCH (m:Movie) WHERE ID(m) = $id SET m.plotEmbedding = $embedding'\n",
            "WARNING:neo4j.notifications:Received notification from DBMS server: {severity: WARNING} {code: Neo.ClientNotification.Statement.FeatureDeprecationWarning} {category: DEPRECATION} {title: This feature is deprecated and will be removed in future versions.} {description: The query used a deprecated function: `id`.} {position: line: 1, column: 23, offset: 22} for query: 'MATCH (m:Movie) WHERE ID(m) = $id SET m.plotEmbedding = $embedding'\n"
          ]
        },
        {
          "output_type": "stream",
          "name": "stdout",
          "text": [
            "Updated movie 'Usual Suspects, The' with embedding.\n",
            "50\n",
            "When he discovers his adopted son is a genius, a New York sportswriter seeks out the boy's birth mother: a prostitute.\n",
            "=================\n"
          ]
        },
        {
          "output_type": "stream",
          "name": "stderr",
          "text": [
            "WARNING:neo4j.notifications:Received notification from DBMS server: {severity: WARNING} {code: Neo.ClientNotification.Statement.FeatureDeprecationWarning} {category: DEPRECATION} {title: This feature is deprecated and will be removed in future versions.} {description: The query used a deprecated function: `id`.} {position: line: 1, column: 23, offset: 22} for query: 'MATCH (m:Movie) WHERE ID(m) = $id SET m.plotEmbedding = $embedding'\n"
          ]
        },
        {
          "output_type": "stream",
          "name": "stdout",
          "text": [
            "Updated movie 'Mighty Aphrodite' with embedding.\n",
            "51\n",
            "Two Italian racketeers come to Albania just after the fall of the communists to set up a fictive firm and pocket the grants. They need a stooge. They choose an old one in a jail : Spiro. ...\n",
            "=================\n",
            "Updated movie 'Lamerica' with embedding.\n",
            "52\n",
            "Another Disney underdog sports team of misfit kids (soccer this time) learns to play a new sport and become champions, while building self-esteem, making friends and solving a variety of ...\n",
            "=================\n"
          ]
        },
        {
          "output_type": "stream",
          "name": "stderr",
          "text": [
            "WARNING:neo4j.notifications:Received notification from DBMS server: {severity: WARNING} {code: Neo.ClientNotification.Statement.FeatureDeprecationWarning} {category: DEPRECATION} {title: This feature is deprecated and will be removed in future versions.} {description: The query used a deprecated function: `id`.} {position: line: 1, column: 23, offset: 22} for query: 'MATCH (m:Movie) WHERE ID(m) = $id SET m.plotEmbedding = $embedding'\n"
          ]
        },
        {
          "output_type": "stream",
          "name": "stdout",
          "text": [
            "Updated movie 'Big Green, The' with embedding.\n",
            "53\n",
            "Sadie is desperately looking up to her older sister Georgia who is a famous C&W artist. Sadie wants to be a famous artist like her sister, but is always doing everything wrong. Her ...\n",
            "=================\n"
          ]
        },
        {
          "output_type": "stream",
          "name": "stderr",
          "text": [
            "WARNING:neo4j.notifications:Received notification from DBMS server: {severity: WARNING} {code: Neo.ClientNotification.Statement.FeatureDeprecationWarning} {category: DEPRECATION} {title: This feature is deprecated and will be removed in future versions.} {description: The query used a deprecated function: `id`.} {position: line: 1, column: 23, offset: 22} for query: 'MATCH (m:Movie) WHERE ID(m) = $id SET m.plotEmbedding = $embedding'\n"
          ]
        },
        {
          "output_type": "stream",
          "name": "stdout",
          "text": [
            "Updated movie 'Georgia' with embedding.\n",
            "54\n",
            "After losing her job, making out with her soon-to-be former boss and finding out that her daughter plans to spend Thanksgiving with her boyfriend, Claudia Larson faces spending the holiday with her family.\n",
            "=================\n"
          ]
        },
        {
          "output_type": "stream",
          "name": "stderr",
          "text": [
            "WARNING:neo4j.notifications:Received notification from DBMS server: {severity: WARNING} {code: Neo.ClientNotification.Statement.FeatureDeprecationWarning} {category: DEPRECATION} {title: This feature is deprecated and will be removed in future versions.} {description: The query used a deprecated function: `id`.} {position: line: 1, column: 23, offset: 22} for query: 'MATCH (m:Movie) WHERE ID(m) = $id SET m.plotEmbedding = $embedding'\n"
          ]
        },
        {
          "output_type": "stream",
          "name": "stdout",
          "text": [
            "Updated movie 'Home for the Holidays' with embedding.\n",
            "55\n",
            "Simple Italian postman learns to love poetry while delivering mail to a famous poet; he uses this to woo local beauty Beatrice.\n",
            "=================\n"
          ]
        },
        {
          "output_type": "stream",
          "name": "stderr",
          "text": [
            "WARNING:neo4j.notifications:Received notification from DBMS server: {severity: WARNING} {code: Neo.ClientNotification.Statement.FeatureDeprecationWarning} {category: DEPRECATION} {title: This feature is deprecated and will be removed in future versions.} {description: The query used a deprecated function: `id`.} {position: line: 1, column: 23, offset: 22} for query: 'MATCH (m:Movie) WHERE ID(m) = $id SET m.plotEmbedding = $embedding'\n",
            "WARNING:neo4j.notifications:Received notification from DBMS server: {severity: WARNING} {code: Neo.ClientNotification.Statement.FeatureDeprecationWarning} {category: DEPRECATION} {title: This feature is deprecated and will be removed in future versions.} {description: The query used a deprecated function: `id`.} {position: line: 1, column: 23, offset: 22} for query: 'MATCH (m:Movie) WHERE ID(m) = $id SET m.plotEmbedding = $embedding'\n"
          ]
        },
        {
          "output_type": "stream",
          "name": "stdout",
          "text": [
            "Updated movie 'Postman, The (Postino, Il)' with embedding.\n",
            "56\n",
            "The year is 1952, in Quebec City. Rachel, 16, unmarried, and pregnant, works in the church. Filled with shame, she unburdens her guilt to a young priest, under the confidentiality of the ...\n",
            "=================\n",
            "Updated movie 'Confessional, The (Confessionnal, Le)' with embedding.\n",
            "57\n",
            "On his ninth birthday a boy receives many presents. Two of them first seem to be less important: an old cupboard from his brother and a little Indian figure made of plastic from his best ...\n",
            "=================\n"
          ]
        },
        {
          "output_type": "stream",
          "name": "stderr",
          "text": [
            "WARNING:neo4j.notifications:Received notification from DBMS server: {severity: WARNING} {code: Neo.ClientNotification.Statement.FeatureDeprecationWarning} {category: DEPRECATION} {title: This feature is deprecated and will be removed in future versions.} {description: The query used a deprecated function: `id`.} {position: line: 1, column: 23, offset: 22} for query: 'MATCH (m:Movie) WHERE ID(m) = $id SET m.plotEmbedding = $embedding'\n",
            "WARNING:neo4j.notifications:Received notification from DBMS server: {severity: WARNING} {code: Neo.ClientNotification.Statement.FeatureDeprecationWarning} {category: DEPRECATION} {title: This feature is deprecated and will be removed in future versions.} {description: The query used a deprecated function: `id`.} {position: line: 1, column: 23, offset: 22} for query: 'MATCH (m:Movie) WHERE ID(m) = $id SET m.plotEmbedding = $embedding'\n"
          ]
        },
        {
          "output_type": "stream",
          "name": "stdout",
          "text": [
            "Updated movie 'Indian in the Cupboard, The' with embedding.\n",
            "58\n",
            "When the courts fail to keep behind bars the man who raped and murdered her daughter, a woman seeks her own form of justice.\n",
            "=================\n",
            "Updated movie 'Eye for an Eye' with embedding.\n",
            "59\n",
            "A frustrated composer finds fulfillment as a high school music teacher.\n",
            "=================\n"
          ]
        },
        {
          "output_type": "stream",
          "name": "stderr",
          "text": [
            "WARNING:neo4j.notifications:Received notification from DBMS server: {severity: WARNING} {code: Neo.ClientNotification.Statement.FeatureDeprecationWarning} {category: DEPRECATION} {title: This feature is deprecated and will be removed in future versions.} {description: The query used a deprecated function: `id`.} {position: line: 1, column: 23, offset: 22} for query: 'MATCH (m:Movie) WHERE ID(m) = $id SET m.plotEmbedding = $embedding'\n"
          ]
        },
        {
          "output_type": "stream",
          "name": "stdout",
          "text": [
            "Updated movie 'Mr. Holland's Opus' with embedding.\n",
            "60\n",
            "Don't Be a Menace to South Central While Drinking your Juice in the Hood is a parody of several U.S. films about being in the 'Hood', for instance Boyz n the Hood, South Central, ...\n",
            "=================\n"
          ]
        },
        {
          "output_type": "stream",
          "name": "stderr",
          "text": [
            "WARNING:neo4j.notifications:Received notification from DBMS server: {severity: WARNING} {code: Neo.ClientNotification.Statement.FeatureDeprecationWarning} {category: DEPRECATION} {title: This feature is deprecated and will be removed in future versions.} {description: The query used a deprecated function: `id`.} {position: line: 1, column: 23, offset: 22} for query: 'MATCH (m:Movie) WHERE ID(m) = $id SET m.plotEmbedding = $embedding'\n",
            "WARNING:neo4j.notifications:Received notification from DBMS server: {severity: WARNING} {code: Neo.ClientNotification.Statement.FeatureDeprecationWarning} {category: DEPRECATION} {title: This feature is deprecated and will be removed in future versions.} {description: The query used a deprecated function: `id`.} {position: line: 1, column: 23, offset: 22} for query: 'MATCH (m:Movie) WHERE ID(m) = $id SET m.plotEmbedding = $embedding'\n"
          ]
        },
        {
          "output_type": "stream",
          "name": "stdout",
          "text": [
            "Updated movie 'Don't Be a Menace to South Central While Drinking Your Juice in the Hood' with embedding.\n",
            "61\n",
            "Frank O'Brien, a petty thief, and his 7-year-long girlfriend Roz want to put an end to their unsteady lifestyle and just do that _last_ job, which involves stealing a valuable painting. ...\n",
            "=================\n",
            "Updated movie 'Two if by Sea' with embedding.\n",
            "62\n",
            "Moronic best friends get themselves locked inside the Bio-Dome, a science experiment, along with a group of environmental scientists for one year.\n",
            "=================\n"
          ]
        },
        {
          "output_type": "stream",
          "name": "stderr",
          "text": [
            "WARNING:neo4j.notifications:Received notification from DBMS server: {severity: WARNING} {code: Neo.ClientNotification.Statement.FeatureDeprecationWarning} {category: DEPRECATION} {title: This feature is deprecated and will be removed in future versions.} {description: The query used a deprecated function: `id`.} {position: line: 1, column: 23, offset: 22} for query: 'MATCH (m:Movie) WHERE ID(m) = $id SET m.plotEmbedding = $embedding'\n",
            "WARNING:neo4j.notifications:Received notification from DBMS server: {severity: WARNING} {code: Neo.ClientNotification.Statement.FeatureDeprecationWarning} {category: DEPRECATION} {title: This feature is deprecated and will be removed in future versions.} {description: The query used a deprecated function: `id`.} {position: line: 1, column: 23, offset: 22} for query: 'MATCH (m:Movie) WHERE ID(m) = $id SET m.plotEmbedding = $embedding'\n"
          ]
        },
        {
          "output_type": "stream",
          "name": "stdout",
          "text": [
            "Updated movie 'Bio-Dome' with embedding.\n",
            "63\n",
            "Jobe is resuscitated by Jonathan Walker. He wants Jobe to create a special computer chip that would connect all the computers in the world into one network, which Walker would control and ...\n",
            "=================\n",
            "Updated movie 'Lawnmower Man 2: Beyond Cyberspace' with embedding.\n",
            "64\n",
            "After learning of her husband's infidelities, a housewife invites an itinerant lesbian to move in with them. None of their lives will ever be the same again.\n",
            "=================\n"
          ]
        },
        {
          "output_type": "stream",
          "name": "stderr",
          "text": [
            "WARNING:neo4j.notifications:Received notification from DBMS server: {severity: WARNING} {code: Neo.ClientNotification.Statement.FeatureDeprecationWarning} {category: DEPRECATION} {title: This feature is deprecated and will be removed in future versions.} {description: The query used a deprecated function: `id`.} {position: line: 1, column: 23, offset: 22} for query: 'MATCH (m:Movie) WHERE ID(m) = $id SET m.plotEmbedding = $embedding'\n",
            "WARNING:neo4j.notifications:Received notification from DBMS server: {severity: WARNING} {code: Neo.ClientNotification.Statement.FeatureDeprecationWarning} {category: DEPRECATION} {title: This feature is deprecated and will be removed in future versions.} {description: The query used a deprecated function: `id`.} {position: line: 1, column: 23, offset: 22} for query: 'MATCH (m:Movie) WHERE ID(m) = $id SET m.plotEmbedding = $embedding'\n"
          ]
        },
        {
          "output_type": "stream",
          "name": "stdout",
          "text": [
            "Updated movie 'French Twist (Gazon maudit)' with embedding.\n",
            "65\n",
            "Two homies, Smokey and Craig, smoke a dope dealer's weed and try to figure a way to get the $200 they owe to the dealer by ten p.m. that same night. In that time, they smoke more weed, get jacked, and they get shot at in a drive-by.\n",
            "=================\n",
            "Updated movie 'Friday' with embedding.\n",
            "66\n",
            "Two criminals and their hostages unknowingly seek temporary refuge in an establishment populated by vampires, with chaotic results.\n",
            "=================\n"
          ]
        },
        {
          "output_type": "stream",
          "name": "stderr",
          "text": [
            "WARNING:neo4j.notifications:Received notification from DBMS server: {severity: WARNING} {code: Neo.ClientNotification.Statement.FeatureDeprecationWarning} {category: DEPRECATION} {title: This feature is deprecated and will be removed in future versions.} {description: The query used a deprecated function: `id`.} {position: line: 1, column: 23, offset: 22} for query: 'MATCH (m:Movie) WHERE ID(m) = $id SET m.plotEmbedding = $embedding'\n"
          ]
        },
        {
          "output_type": "stream",
          "name": "stdout",
          "text": [
            "Updated movie 'From Dusk Till Dawn' with embedding.\n",
            "67\n",
            "Max Kirkpatrick is a cop who protects Kate McQuean, a civil law attorney, from a renegade KGB team out to terminate her.\n",
            "=================\n"
          ]
        },
        {
          "output_type": "stream",
          "name": "stderr",
          "text": [
            "WARNING:neo4j.notifications:Received notification from DBMS server: {severity: WARNING} {code: Neo.ClientNotification.Statement.FeatureDeprecationWarning} {category: DEPRECATION} {title: This feature is deprecated and will be removed in future versions.} {description: The query used a deprecated function: `id`.} {position: line: 1, column: 23, offset: 22} for query: 'MATCH (m:Movie) WHERE ID(m) = $id SET m.plotEmbedding = $embedding'\n",
            "WARNING:neo4j.notifications:Received notification from DBMS server: {severity: WARNING} {code: Neo.ClientNotification.Statement.FeatureDeprecationWarning} {category: DEPRECATION} {title: This feature is deprecated and will be removed in future versions.} {description: The query used a deprecated function: `id`.} {position: line: 1, column: 23, offset: 22} for query: 'MATCH (m:Movie) WHERE ID(m) = $id SET m.plotEmbedding = $embedding'\n"
          ]
        },
        {
          "output_type": "stream",
          "name": "stdout",
          "text": [
            "Updated movie 'Fair Game' with embedding.\n",
            "68\n",
            "Following graduation, a handful of college students do nothing and talk about it wittily.\n",
            "=================\n",
            "Updated movie 'Kicking and Screaming' with embedding.\n",
            "69\n",
            "Henri Fortin is poor and iliterate former boxer. Ziman is rich Jewish lawyer from Paris. During WWII they meet when Fortin agrees to drive Ziman's family to Switzerland. Intrigued by Victor...\n",
            "=================\n"
          ]
        },
        {
          "output_type": "stream",
          "name": "stderr",
          "text": [
            "WARNING:neo4j.notifications:Received notification from DBMS server: {severity: WARNING} {code: Neo.ClientNotification.Statement.FeatureDeprecationWarning} {category: DEPRECATION} {title: This feature is deprecated and will be removed in future versions.} {description: The query used a deprecated function: `id`.} {position: line: 1, column: 23, offset: 22} for query: 'MATCH (m:Movie) WHERE ID(m) = $id SET m.plotEmbedding = $embedding'\n",
            "WARNING:neo4j.notifications:Received notification from DBMS server: {severity: WARNING} {code: Neo.ClientNotification.Statement.FeatureDeprecationWarning} {category: DEPRECATION} {title: This feature is deprecated and will be removed in future versions.} {description: The query used a deprecated function: `id`.} {position: line: 1, column: 23, offset: 22} for query: 'MATCH (m:Movie) WHERE ID(m) = $id SET m.plotEmbedding = $embedding'\n"
          ]
        },
        {
          "output_type": "stream",
          "name": "stdout",
          "text": [
            "Updated movie 'Misérables, Les' with embedding.\n",
            "70\n",
            "Romantic drama about a young career girl who is swept off her feet by a shy florist, who fell in love with her after one glimpse through a shadowy window.\n",
            "=================\n",
            "Updated movie 'Bed of Roses' with embedding.\n",
            "71\n",
            "(SIRIUS 6B, Year 2078) On a distant mining planet ravaged by a decade of war, scientists have created the perfect weapon: a blade-wielding, self-replicating race of killing devices known as...\n",
            "=================\n"
          ]
        },
        {
          "output_type": "stream",
          "name": "stderr",
          "text": [
            "WARNING:neo4j.notifications:Received notification from DBMS server: {severity: WARNING} {code: Neo.ClientNotification.Statement.FeatureDeprecationWarning} {category: DEPRECATION} {title: This feature is deprecated and will be removed in future versions.} {description: The query used a deprecated function: `id`.} {position: line: 1, column: 23, offset: 22} for query: 'MATCH (m:Movie) WHERE ID(m) = $id SET m.plotEmbedding = $embedding'\n",
            "WARNING:neo4j.notifications:Received notification from DBMS server: {severity: WARNING} {code: Neo.ClientNotification.Statement.FeatureDeprecationWarning} {category: DEPRECATION} {title: This feature is deprecated and will be removed in future versions.} {description: The query used a deprecated function: `id`.} {position: line: 1, column: 23, offset: 22} for query: 'MATCH (m:Movie) WHERE ID(m) = $id SET m.plotEmbedding = $embedding'\n"
          ]
        },
        {
          "output_type": "stream",
          "name": "stdout",
          "text": [
            "Updated movie 'Screamers' with embedding.\n",
            "72\n",
            "A look into the many lives of Christa Päffgen, otherwise known as Nico; from cutie German mädchen to the first of the supermodels, to glamorous diva of the Velvet Underground, to cult item,...\n",
            "=================\n",
            "Updated movie 'Nico Icon' with embedding.\n",
            "73\n",
            "Freddie Gale is a seedy jeweler who has sworn to kill the drunk driver who killed his little girl.\n",
            "=================\n"
          ]
        },
        {
          "output_type": "stream",
          "name": "stderr",
          "text": [
            "WARNING:neo4j.notifications:Received notification from DBMS server: {severity: WARNING} {code: Neo.ClientNotification.Statement.FeatureDeprecationWarning} {category: DEPRECATION} {title: This feature is deprecated and will be removed in future versions.} {description: The query used a deprecated function: `id`.} {position: line: 1, column: 23, offset: 22} for query: 'MATCH (m:Movie) WHERE ID(m) = $id SET m.plotEmbedding = $embedding'\n",
            "WARNING:neo4j.notifications:Received notification from DBMS server: {severity: WARNING} {code: Neo.ClientNotification.Statement.FeatureDeprecationWarning} {category: DEPRECATION} {title: This feature is deprecated and will be removed in future versions.} {description: The query used a deprecated function: `id`.} {position: line: 1, column: 23, offset: 22} for query: 'MATCH (m:Movie) WHERE ID(m) = $id SET m.plotEmbedding = $embedding'\n"
          ]
        },
        {
          "output_type": "stream",
          "name": "stdout",
          "text": [
            "Updated movie 'Crossing Guard, The' with embedding.\n",
            "74\n",
            "When Annie Laird is selected as a juror in a big Mafia trial, she is forced by someone known as The Teacher to persuade the other jurors to vote not guilty. He threatens to kill her son...\n",
            "=================\n",
            "Updated movie 'Juror, The' with embedding.\n",
            "75\n",
            "Several people try to take advantage of a little girl's innocence to hustle money her mom gave to her to buy a goldfish with.\n",
            "=================\n"
          ]
        },
        {
          "output_type": "stream",
          "name": "stderr",
          "text": [
            "WARNING:neo4j.notifications:Received notification from DBMS server: {severity: WARNING} {code: Neo.ClientNotification.Statement.FeatureDeprecationWarning} {category: DEPRECATION} {title: This feature is deprecated and will be removed in future versions.} {description: The query used a deprecated function: `id`.} {position: line: 1, column: 23, offset: 22} for query: 'MATCH (m:Movie) WHERE ID(m) = $id SET m.plotEmbedding = $embedding'\n",
            "WARNING:neo4j.notifications:Received notification from DBMS server: {severity: WARNING} {code: Neo.ClientNotification.Statement.FeatureDeprecationWarning} {category: DEPRECATION} {title: This feature is deprecated and will be removed in future versions.} {description: The query used a deprecated function: `id`.} {position: line: 1, column: 23, offset: 22} for query: 'MATCH (m:Movie) WHERE ID(m) = $id SET m.plotEmbedding = $embedding'\n"
          ]
        },
        {
          "output_type": "stream",
          "name": "stdout",
          "text": [
            "Updated movie 'White Balloon, The (Badkonake sefid)' with embedding.\n",
            "76\n",
            "Five different criminals face imminent death after botching a job quite badly.\n",
            "=================\n",
            "Updated movie 'Things to Do in Denver When You're Dead' with embedding.\n",
            "77\n",
            "A Dutch matron establishes and, for several generations, oversees a close-knit, matriarchal community where feminism and liberalism thrive.\n",
            "=================\n"
          ]
        },
        {
          "output_type": "stream",
          "name": "stderr",
          "text": [
            "WARNING:neo4j.notifications:Received notification from DBMS server: {severity: WARNING} {code: Neo.ClientNotification.Statement.FeatureDeprecationWarning} {category: DEPRECATION} {title: This feature is deprecated and will be removed in future versions.} {description: The query used a deprecated function: `id`.} {position: line: 1, column: 23, offset: 22} for query: 'MATCH (m:Movie) WHERE ID(m) = $id SET m.plotEmbedding = $embedding'\n",
            "WARNING:neo4j.notifications:Received notification from DBMS server: {severity: WARNING} {code: Neo.ClientNotification.Statement.FeatureDeprecationWarning} {category: DEPRECATION} {title: This feature is deprecated and will be removed in future versions.} {description: The query used a deprecated function: `id`.} {position: line: 1, column: 23, offset: 22} for query: 'MATCH (m:Movie) WHERE ID(m) = $id SET m.plotEmbedding = $embedding'\n"
          ]
        },
        {
          "output_type": "stream",
          "name": "stdout",
          "text": [
            "Updated movie 'Antonia's Line (Antonia)' with embedding.\n",
            "78\n",
            "A narrator tells the story of his childhood years in a tightly knit Afro-American community in the deep south under racial segregation.\n",
            "=================\n",
            "Updated movie 'Once Upon a Time... When We Were Colored' with embedding.\n",
            "79\n",
            "Filmed entirely on location in East Hampton, Long Island, Last Summer in the Hamptons concerns a large theatrical family spending the last weekend of their summer together at the ...\n",
            "=================\n"
          ]
        },
        {
          "output_type": "stream",
          "name": "stderr",
          "text": [
            "WARNING:neo4j.notifications:Received notification from DBMS server: {severity: WARNING} {code: Neo.ClientNotification.Statement.FeatureDeprecationWarning} {category: DEPRECATION} {title: This feature is deprecated and will be removed in future versions.} {description: The query used a deprecated function: `id`.} {position: line: 1, column: 23, offset: 22} for query: 'MATCH (m:Movie) WHERE ID(m) = $id SET m.plotEmbedding = $embedding'\n",
            "WARNING:neo4j.notifications:Received notification from DBMS server: {severity: WARNING} {code: Neo.ClientNotification.Statement.FeatureDeprecationWarning} {category: DEPRECATION} {title: This feature is deprecated and will be removed in future versions.} {description: The query used a deprecated function: `id`.} {position: line: 1, column: 23, offset: 22} for query: 'MATCH (m:Movie) WHERE ID(m) = $id SET m.plotEmbedding = $embedding'\n"
          ]
        },
        {
          "output_type": "stream",
          "name": "stdout",
          "text": [
            "Updated movie 'Last Summer in the Hamptons' with embedding.\n",
            "80\n",
            "In the 1800s a naturalist marries into a family of British country gentry.\n",
            "=================\n",
            "Updated movie 'Angels and Insects' with embedding.\n",
            "81\n",
            "Teenage boys discover discipline and camaraderie on an ill-fated sailing voyage.\n",
            "=================\n"
          ]
        },
        {
          "output_type": "stream",
          "name": "stderr",
          "text": [
            "WARNING:neo4j.notifications:Received notification from DBMS server: {severity: WARNING} {code: Neo.ClientNotification.Statement.FeatureDeprecationWarning} {category: DEPRECATION} {title: This feature is deprecated and will be removed in future versions.} {description: The query used a deprecated function: `id`.} {position: line: 1, column: 23, offset: 22} for query: 'MATCH (m:Movie) WHERE ID(m) = $id SET m.plotEmbedding = $embedding'\n",
            "WARNING:neo4j.notifications:Received notification from DBMS server: {severity: WARNING} {code: Neo.ClientNotification.Statement.FeatureDeprecationWarning} {category: DEPRECATION} {title: This feature is deprecated and will be removed in future versions.} {description: The query used a deprecated function: `id`.} {position: line: 1, column: 23, offset: 22} for query: 'MATCH (m:Movie) WHERE ID(m) = $id SET m.plotEmbedding = $embedding'\n"
          ]
        },
        {
          "output_type": "stream",
          "name": "stdout",
          "text": [
            "Updated movie 'White Squall' with embedding.\n",
            "82\n",
            "Young boy befriends larcenous orangutan in luxury hotel.\n",
            "=================\n",
            "Updated movie 'Dunston Checks In' with embedding.\n",
            "83\n",
            "A gubernatorial candidate hires a wormy special assistant whose only job is to make sure the candidate's well-meaning but incompetent brother doesn't ruin the election.\n",
            "=================\n"
          ]
        },
        {
          "output_type": "stream",
          "name": "stderr",
          "text": [
            "WARNING:neo4j.notifications:Received notification from DBMS server: {severity: WARNING} {code: Neo.ClientNotification.Statement.FeatureDeprecationWarning} {category: DEPRECATION} {title: This feature is deprecated and will be removed in future versions.} {description: The query used a deprecated function: `id`.} {position: line: 1, column: 23, offset: 22} for query: 'MATCH (m:Movie) WHERE ID(m) = $id SET m.plotEmbedding = $embedding'\n",
            "WARNING:neo4j.notifications:Received notification from DBMS server: {severity: WARNING} {code: Neo.ClientNotification.Statement.FeatureDeprecationWarning} {category: DEPRECATION} {title: This feature is deprecated and will be removed in future versions.} {description: The query used a deprecated function: `id`.} {position: line: 1, column: 23, offset: 22} for query: 'MATCH (m:Movie) WHERE ID(m) = $id SET m.plotEmbedding = $embedding'\n"
          ]
        },
        {
          "output_type": "stream",
          "name": "stdout",
          "text": [
            "Updated movie 'Black Sheep' with embedding.\n",
            "84\n",
            "An unimpressive, every-day man is forced into a situation where he is told to kill a politician to save his kidnapped daughter.\n",
            "=================\n",
            "Updated movie 'Nick of Time' with embedding.\n",
            "85\n",
            "A housemaid falls in love with Dr. Jekyll and his darkly mysterious counterpart, Mr. Hyde.\n",
            "=================\n"
          ]
        },
        {
          "output_type": "stream",
          "name": "stderr",
          "text": [
            "WARNING:neo4j.notifications:Received notification from DBMS server: {severity: WARNING} {code: Neo.ClientNotification.Statement.FeatureDeprecationWarning} {category: DEPRECATION} {title: This feature is deprecated and will be removed in future versions.} {description: The query used a deprecated function: `id`.} {position: line: 1, column: 23, offset: 22} for query: 'MATCH (m:Movie) WHERE ID(m) = $id SET m.plotEmbedding = $embedding'\n",
            "WARNING:neo4j.notifications:Received notification from DBMS server: {severity: WARNING} {code: Neo.ClientNotification.Statement.FeatureDeprecationWarning} {category: DEPRECATION} {title: This feature is deprecated and will be removed in future versions.} {description: The query used a deprecated function: `id`.} {position: line: 1, column: 23, offset: 22} for query: 'MATCH (m:Movie) WHERE ID(m) = $id SET m.plotEmbedding = $embedding'\n"
          ]
        },
        {
          "output_type": "stream",
          "name": "stdout",
          "text": [
            "Updated movie 'Mary Reilly' with embedding.\n",
            "86\n",
            "Maximillian is the only survivor from a race of vampires on a Caribbean Island, and as a vampire, he must find a mate to keep the line from ending. He knows that a child had been born to a ...\n",
            "=================\n",
            "Updated movie 'Vampire in Brooklyn' with embedding.\n",
            "87\n",
            "A piano player at a crossroads in his life returns home to his friends and their own problems with life and love.\n",
            "=================\n"
          ]
        },
        {
          "output_type": "stream",
          "name": "stderr",
          "text": [
            "WARNING:neo4j.notifications:Received notification from DBMS server: {severity: WARNING} {code: Neo.ClientNotification.Statement.FeatureDeprecationWarning} {category: DEPRECATION} {title: This feature is deprecated and will be removed in future versions.} {description: The query used a deprecated function: `id`.} {position: line: 1, column: 23, offset: 22} for query: 'MATCH (m:Movie) WHERE ID(m) = $id SET m.plotEmbedding = $embedding'\n",
            "WARNING:neo4j.notifications:Received notification from DBMS server: {severity: WARNING} {code: Neo.ClientNotification.Statement.FeatureDeprecationWarning} {category: DEPRECATION} {title: This feature is deprecated and will be removed in future versions.} {description: The query used a deprecated function: `id`.} {position: line: 1, column: 23, offset: 22} for query: 'MATCH (m:Movie) WHERE ID(m) = $id SET m.plotEmbedding = $embedding'\n"
          ]
        },
        {
          "output_type": "stream",
          "name": "stdout",
          "text": [
            "Updated movie 'Beautiful Girls' with embedding.\n",
            "88\n",
            "Terrorists steal nuclear warheads from the U.S. military but don't count on a pilot and park ranger spoiling their plans.\n",
            "=================\n"
          ]
        },
        {
          "output_type": "stream",
          "name": "stderr",
          "text": [
            "WARNING:neo4j.notifications:Received notification from DBMS server: {severity: WARNING} {code: Neo.ClientNotification.Statement.FeatureDeprecationWarning} {category: DEPRECATION} {title: This feature is deprecated and will be removed in future versions.} {description: The query used a deprecated function: `id`.} {position: line: 1, column: 23, offset: 22} for query: 'MATCH (m:Movie) WHERE ID(m) = $id SET m.plotEmbedding = $embedding'\n"
          ]
        },
        {
          "output_type": "stream",
          "name": "stdout",
          "text": [
            "Updated movie 'Broken Arrow' with embedding.\n",
            "89\n",
            "Out of work actor Joe volunteers to help try and save his sister's local church for the community by putting on a Christmas production of Hamlet, somewhat against the advice of his agent ...\n",
            "=================\n",
            "Updated movie 'In the Bleak Midwinter' with embedding.\n",
            "90\n",
            "24 hours in the lives of three young men in the French suburbs the day after a violent riot.\n",
            "=================\n"
          ]
        },
        {
          "output_type": "stream",
          "name": "stderr",
          "text": [
            "WARNING:neo4j.notifications:Received notification from DBMS server: {severity: WARNING} {code: Neo.ClientNotification.Statement.FeatureDeprecationWarning} {category: DEPRECATION} {title: This feature is deprecated and will be removed in future versions.} {description: The query used a deprecated function: `id`.} {position: line: 1, column: 23, offset: 22} for query: 'MATCH (m:Movie) WHERE ID(m) = $id SET m.plotEmbedding = $embedding'\n",
            "WARNING:neo4j.notifications:Received notification from DBMS server: {severity: WARNING} {code: Neo.ClientNotification.Statement.FeatureDeprecationWarning} {category: DEPRECATION} {title: This feature is deprecated and will be removed in future versions.} {description: The query used a deprecated function: `id`.} {position: line: 1, column: 23, offset: 22} for query: 'MATCH (m:Movie) WHERE ID(m) = $id SET m.plotEmbedding = $embedding'\n"
          ]
        },
        {
          "output_type": "stream",
          "name": "stdout",
          "text": [
            "Updated movie 'Hate (Haine, La)' with embedding.\n",
            "91\n",
            "You've run out of options, no school, no job. Steal a car, smash a shop with a heavy car and reap the proceeds!. This movie is about underground England. The causes, the benefits, and the result of a life of 'crash and carry'.\n",
            "=================\n",
            "Updated movie 'Shopping' with embedding.\n",
            "92\n",
            "A documentary crew from the BBC arrives in L.A. intent on interviewing Heidi Fleiss, a year after her arrest for running a brothel but before her trial. Several months elapse before the ...\n",
            "=================\n"
          ]
        },
        {
          "output_type": "stream",
          "name": "stderr",
          "text": [
            "WARNING:neo4j.notifications:Received notification from DBMS server: {severity: WARNING} {code: Neo.ClientNotification.Statement.FeatureDeprecationWarning} {category: DEPRECATION} {title: This feature is deprecated and will be removed in future versions.} {description: The query used a deprecated function: `id`.} {position: line: 1, column: 23, offset: 22} for query: 'MATCH (m:Movie) WHERE ID(m) = $id SET m.plotEmbedding = $embedding'\n",
            "WARNING:neo4j.notifications:Received notification from DBMS server: {severity: WARNING} {code: Neo.ClientNotification.Statement.FeatureDeprecationWarning} {category: DEPRECATION} {title: This feature is deprecated and will be removed in future versions.} {description: The query used a deprecated function: `id`.} {position: line: 1, column: 23, offset: 22} for query: 'MATCH (m:Movie) WHERE ID(m) = $id SET m.plotEmbedding = $embedding'\n"
          ]
        },
        {
          "output_type": "stream",
          "name": "stdout",
          "text": [
            "Updated movie 'Heidi Fleiss: Hollywood Madam' with embedding.\n",
            "93\n",
            "The accidental shooting of a boy in New York leads to an investigation by the Deputy Mayor, and unexpectedly far-reaching consequences.\n",
            "=================\n",
            "Updated movie 'City Hall' with embedding.\n",
            "94\n",
            "Focusing on a trio of friends and their elaborate plan to pull off a simple robbery and go on the run.\n",
            "=================\n"
          ]
        },
        {
          "output_type": "stream",
          "name": "stderr",
          "text": [
            "WARNING:neo4j.notifications:Received notification from DBMS server: {severity: WARNING} {code: Neo.ClientNotification.Statement.FeatureDeprecationWarning} {category: DEPRECATION} {title: This feature is deprecated and will be removed in future versions.} {description: The query used a deprecated function: `id`.} {position: line: 1, column: 23, offset: 22} for query: 'MATCH (m:Movie) WHERE ID(m) = $id SET m.plotEmbedding = $embedding'\n",
            "WARNING:neo4j.notifications:Received notification from DBMS server: {severity: WARNING} {code: Neo.ClientNotification.Statement.FeatureDeprecationWarning} {category: DEPRECATION} {title: This feature is deprecated and will be removed in future versions.} {description: The query used a deprecated function: `id`.} {position: line: 1, column: 23, offset: 22} for query: 'MATCH (m:Movie) WHERE ID(m) = $id SET m.plotEmbedding = $embedding'\n"
          ]
        },
        {
          "output_type": "stream",
          "name": "stdout",
          "text": [
            "Updated movie 'Bottle Rocket' with embedding.\n",
            "95\n",
            "A single and lonely woman finds the seemingly perfect man to date, but soon regrets it when his deranged and possessive other personality emerges and worst still, she cannot convince anyone else of his Jekyll/Hyde true nature.\n",
            "=================\n",
            "Updated movie 'Mr. Wrong' with embedding.\n",
            "96\n",
            "Unsuccessfully framed for his wife's murder, Dr. David Krane attempts to find the real culprit by utilizing a new drug that allows him to experience the memories of other people first-hand....\n",
            "=================\n"
          ]
        },
        {
          "output_type": "stream",
          "name": "stderr",
          "text": [
            "WARNING:neo4j.notifications:Received notification from DBMS server: {severity: WARNING} {code: Neo.ClientNotification.Statement.FeatureDeprecationWarning} {category: DEPRECATION} {title: This feature is deprecated and will be removed in future versions.} {description: The query used a deprecated function: `id`.} {position: line: 1, column: 23, offset: 22} for query: 'MATCH (m:Movie) WHERE ID(m) = $id SET m.plotEmbedding = $embedding'\n",
            "WARNING:neo4j.notifications:Received notification from DBMS server: {severity: WARNING} {code: Neo.ClientNotification.Statement.FeatureDeprecationWarning} {category: DEPRECATION} {title: This feature is deprecated and will be removed in future versions.} {description: The query used a deprecated function: `id`.} {position: line: 1, column: 23, offset: 22} for query: 'MATCH (m:Movie) WHERE ID(m) = $id SET m.plotEmbedding = $embedding'\n"
          ]
        },
        {
          "output_type": "stream",
          "name": "stdout",
          "text": [
            "Updated movie 'Unforgettable' with embedding.\n",
            "97\n",
            "A rejected hockey player puts his skills to the golf course to save his grandmother's house.\n",
            "=================\n",
            "Updated movie 'Happy Gilmore' with embedding.\n",
            "98\n",
            "Photographer Robert Kincaid wanders into the life of housewife Francesca Johnson, for four days in the 1960s.\n",
            "=================\n"
          ]
        },
        {
          "output_type": "stream",
          "name": "stderr",
          "text": [
            "WARNING:neo4j.notifications:Received notification from DBMS server: {severity: WARNING} {code: Neo.ClientNotification.Statement.FeatureDeprecationWarning} {category: DEPRECATION} {title: This feature is deprecated and will be removed in future versions.} {description: The query used a deprecated function: `id`.} {position: line: 1, column: 23, offset: 22} for query: 'MATCH (m:Movie) WHERE ID(m) = $id SET m.plotEmbedding = $embedding'\n",
            "WARNING:neo4j.notifications:Received notification from DBMS server: {severity: WARNING} {code: Neo.ClientNotification.Statement.FeatureDeprecationWarning} {category: DEPRECATION} {title: This feature is deprecated and will be removed in future versions.} {description: The query used a deprecated function: `id`.} {position: line: 1, column: 23, offset: 22} for query: 'MATCH (m:Movie) WHERE ID(m) = $id SET m.plotEmbedding = $embedding'\n"
          ]
        },
        {
          "output_type": "stream",
          "name": "stdout",
          "text": [
            "Updated movie 'Bridges of Madison County, The' with embedding.\n",
            "99\n",
            "The Muppets' twist on the classic tale.\n",
            "=================\n",
            "Updated movie 'Muppet Treasure Island' with embedding.\n",
            "100\n",
            "A camera follows model Christy Turlington through the spring fashion shows in Milan, Paris, and New York one year in the early 1990s, probably 1992. She and others dash from one designer's ...\n",
            "=================\n"
          ]
        },
        {
          "output_type": "stream",
          "name": "stderr",
          "text": [
            "WARNING:neo4j.notifications:Received notification from DBMS server: {severity: WARNING} {code: Neo.ClientNotification.Statement.FeatureDeprecationWarning} {category: DEPRECATION} {title: This feature is deprecated and will be removed in future versions.} {description: The query used a deprecated function: `id`.} {position: line: 1, column: 23, offset: 22} for query: 'MATCH (m:Movie) WHERE ID(m) = $id SET m.plotEmbedding = $embedding'\n",
            "WARNING:neo4j.notifications:Received notification from DBMS server: {severity: WARNING} {code: Neo.ClientNotification.Statement.FeatureDeprecationWarning} {category: DEPRECATION} {title: This feature is deprecated and will be removed in future versions.} {description: The query used a deprecated function: `id`.} {position: line: 1, column: 23, offset: 22} for query: 'MATCH (m:Movie) WHERE ID(m) = $id SET m.plotEmbedding = $embedding'\n"
          ]
        },
        {
          "output_type": "stream",
          "name": "stdout",
          "text": [
            "Updated movie 'Catwalk' with embedding.\n"
          ]
        }
      ]
    },
    {
      "cell_type": "markdown",
      "source": [
        "## 3. Vector INDEX 로 Retriever 생성하기"
      ],
      "metadata": {
        "id": "yqXfhvRaQFli"
      }
    },
    {
      "cell_type": "markdown",
      "source": [
        "Embedding 모델 : https://platform.openai.com/docs/models/embeddings\n",
        "\n",
        "VECTOR INDEX : https://neo4j.com/docs/cypher-manual/current/indexes/semantic-indexes/vector-indexes/"
      ],
      "metadata": {
        "id": "EIIzNQcO_olr"
      }
    },
    {
      "cell_type": "markdown",
      "source": [
        "인덱스(VECTOR INDEX) 생성하기\n",
        "```cypher\n",
        "CREATE VECTOR INDEX moviePlotsEmbedding FOR (n:Movie) ON (n.plotEmbedding) OPTIONS {indexConfig: {\n",
        " `vector.dimensions`: 1536,\n",
        " `vector.similarity_function`: 'cosine'\n",
        "}}\n",
        "```"
      ],
      "metadata": {
        "id": "VNoMyw_2AUYl"
      }
    },
    {
      "cell_type": "code",
      "source": [
        "from neo4j_graphrag.retrievers import VectorRetriever\n",
        "from neo4j_graphrag.embeddings.openai import OpenAIEmbeddings\n",
        "embedder = OpenAIEmbeddings(model=\"text-embedding-ada-002\")\n",
        "retriever = VectorRetriever(\n",
        "    driver,\n",
        "    index_name=\"moviePlotsEmbedding\",\n",
        "    embedder=embedder,\n",
        "    return_properties=[\"title\", \"plot\"],\n",
        ")"
      ],
      "metadata": {
        "id": "YH5CcnCU2XJk"
      },
      "execution_count": null,
      "outputs": []
    },
    {
      "cell_type": "code",
      "source": [
        "query_text = \"A cowboy doll is jealous when a new spaceman figure becomes the top toy.\" # 토이스토리 줄거리\n",
        "retriever_result = retriever.search(query_text=query_text, top_k=3)\n",
        "print(retriever_result)"
      ],
      "metadata": {
        "colab": {
          "base_uri": "https://localhost:8080/"
        },
        "id": "-1WyJK3eTpBA",
        "outputId": "58e2b301-e5ff-42e5-b9a0-dca1e025015c"
      },
      "execution_count": null,
      "outputs": [
        {
          "output_type": "stream",
          "name": "stdout",
          "text": [
            "items=[RetrieverResultItem(content='{\\'title\\': \\'Toy Story\\', \\'plot\\': \"A cowboy doll is profoundly threatened and jealous when a new spaceman figure supplants him as top toy in a boy\\'s room.\"}', metadata={'score': 0.987567126750946, 'nodeLabels': None, 'id': None}), RetrieverResultItem(content=\"{'title': 'Indian in the Cupboard, The', 'plot': 'On his ninth birthday a boy receives many presents. Two of them first seem to be less important: an old cupboard from his brother and a little Indian figure made of plastic from his best ...'}\", metadata={'score': 0.9115517139434814, 'nodeLabels': None, 'id': None}), RetrieverResultItem(content=\"{'title': 'Powder', 'plot': 'A young bald albino boy with unique powers shakes up the rural community he lives in.'}\", metadata={'score': 0.906036376953125, 'nodeLabels': None, 'id': None})] metadata={'__retriever': 'VectorRetriever'}\n"
          ]
        }
      ]
    },
    {
      "cell_type": "code",
      "source": [
        "retriever_result"
      ],
      "metadata": {
        "colab": {
          "base_uri": "https://localhost:8080/"
        },
        "id": "Ug-1xKul0xcG",
        "outputId": "fcbb4bfa-bd14-4737-a4bb-bb81cf79d225"
      },
      "execution_count": null,
      "outputs": [
        {
          "output_type": "execute_result",
          "data": {
            "text/plain": [
              "RetrieverResult(items=[RetrieverResultItem(content='{\\'title\\': \\'Toy Story\\', \\'plot\\': \"A cowboy doll is profoundly threatened and jealous when a new spaceman figure supplants him as top toy in a boy\\'s room.\"}', metadata={'score': 0.987567126750946, 'nodeLabels': None, 'id': None}), RetrieverResultItem(content=\"{'title': 'Indian in the Cupboard, The', 'plot': 'On his ninth birthday a boy receives many presents. Two of them first seem to be less important: an old cupboard from his brother and a little Indian figure made of plastic from his best ...'}\", metadata={'score': 0.9115517139434814, 'nodeLabels': None, 'id': None}), RetrieverResultItem(content=\"{'title': 'Powder', 'plot': 'A young bald albino boy with unique powers shakes up the rural community he lives in.'}\", metadata={'score': 0.906036376953125, 'nodeLabels': None, 'id': None})], metadata={'__retriever': 'VectorRetriever'})"
            ]
          },
          "metadata": {},
          "execution_count": 9
        }
      ]
    },
    {
      "cell_type": "code",
      "source": [
        "query_text = \"A movie about a shooting incident.\"\n",
        "retriever_result = retriever.search(query_text=query_text, top_k=3)\n",
        "print(retriever_result)"
      ],
      "metadata": {
        "colab": {
          "base_uri": "https://localhost:8080/"
        },
        "id": "zZ8yMjQL2b4L",
        "outputId": "5cc01584-8cb3-4f90-adea-cde33ef04d73"
      },
      "execution_count": null,
      "outputs": [
        {
          "output_type": "stream",
          "name": "stdout",
          "text": [
            "items=[RetrieverResultItem(content=\"{'title': 'City Hall', 'plot': 'The accidental shooting of a boy in New York leads to an investigation by the Deputy Mayor, and unexpectedly far-reaching consequences.'}\", metadata={'score': 0.9377193450927734, 'nodeLabels': None, 'id': None}), RetrieverResultItem(content=\"{'title': 'Usual Suspects, The', 'plot': 'A sole survivor tells of the twisty events leading up to a horrific gun battle on a boat, which begin when five criminals meet at a seemingly random police lineup.'}\", metadata={'score': 0.9369542598724365, 'nodeLabels': None, 'id': None}), RetrieverResultItem(content=\"{'title': 'Nick of Time', 'plot': 'An unimpressive, every-day man is forced into a situation where he is told to kill a politician to save his kidnapped daughter.'}\", metadata={'score': 0.9193116426467896, 'nodeLabels': None, 'id': None})] metadata={'__retriever': 'VectorRetriever'}\n"
          ]
        }
      ]
    },
    {
      "cell_type": "code",
      "source": [
        "print(retriever_result)"
      ],
      "metadata": {
        "colab": {
          "base_uri": "https://localhost:8080/"
        },
        "id": "xhsko6bHQF5a",
        "outputId": "990e3acd-f52d-44ac-f529-a1ab6f8ec7ad"
      },
      "execution_count": null,
      "outputs": [
        {
          "output_type": "stream",
          "name": "stdout",
          "text": [
            "items=[RetrieverResultItem(content=\"{'title': 'City Hall', 'plot': 'The accidental shooting of a boy in New York leads to an investigation by the Deputy Mayor, and unexpectedly far-reaching consequences.'}\", metadata={'score': 0.9377193450927734, 'nodeLabels': None, 'id': None}), RetrieverResultItem(content=\"{'title': 'Usual Suspects, The', 'plot': 'A sole survivor tells of the twisty events leading up to a horrific gun battle on a boat, which begin when five criminals meet at a seemingly random police lineup.'}\", metadata={'score': 0.9369542598724365, 'nodeLabels': None, 'id': None}), RetrieverResultItem(content=\"{'title': 'Nick of Time', 'plot': 'An unimpressive, every-day man is forced into a situation where he is told to kill a politician to save his kidnapped daughter.'}\", metadata={'score': 0.9193116426467896, 'nodeLabels': None, 'id': None})] metadata={'__retriever': 'VectorRetriever'}\n"
          ]
        }
      ]
    },
    {
      "cell_type": "code",
      "source": [
        "for k, item in enumerate(retriever_result.items):\n",
        "    print(f\"TOP {k+1}\")\n",
        "    print(item.content)\n",
        "    print(\"score : \", item.metadata[\"score\"])"
      ],
      "metadata": {
        "colab": {
          "base_uri": "https://localhost:8080/"
        },
        "id": "pcWKxU_d2W-G",
        "outputId": "25ece668-5c45-42f2-a552-21eaecbe91e8"
      },
      "execution_count": null,
      "outputs": [
        {
          "output_type": "stream",
          "name": "stdout",
          "text": [
            "TOP 1\n",
            "{'title': 'City Hall', 'plot': 'The accidental shooting of a boy in New York leads to an investigation by the Deputy Mayor, and unexpectedly far-reaching consequences.'}\n",
            "score :  0.9377193450927734\n",
            "TOP 2\n",
            "{'title': 'Usual Suspects, The', 'plot': 'A sole survivor tells of the twisty events leading up to a horrific gun battle on a boat, which begin when five criminals meet at a seemingly random police lineup.'}\n",
            "score :  0.9369542598724365\n",
            "TOP 3\n",
            "{'title': 'Nick of Time', 'plot': 'An unimpressive, every-day man is forced into a situation where he is told to kill a politician to save his kidnapped daughter.'}\n",
            "score :  0.9193116426467896\n"
          ]
        }
      ]
    },
    {
      "cell_type": "markdown",
      "source": [
        "## 4. GRAPH RAG 구현하기"
      ],
      "metadata": {
        "id": "VyJZDdoOkSOB"
      }
    },
    {
      "cell_type": "markdown",
      "source": [
        "### 4-1. Vector Retriever로 만든 텍스트 유사도 기반 RAG 방식"
      ],
      "metadata": {
        "id": "iItiCyETN-jp"
      }
    },
    {
      "cell_type": "code",
      "source": [
        "from neo4j_graphrag.llm import OpenAILLM\n",
        "from neo4j_graphrag.generation import GraphRAG\n",
        "\n",
        "# Retrieval 후 답변을 생성할 때 사용할 LLM\n",
        "llm = OpenAILLM(model_name=\"gpt-4o\", model_params={\"temperature\": 0})"
      ],
      "metadata": {
        "id": "1a_asoJ0ZnyB"
      },
      "execution_count": null,
      "outputs": []
    },
    {
      "cell_type": "code",
      "source": [
        "# RAG 파이프라인 초기화\n",
        "rag = GraphRAG(retriever=retriever, llm=llm)"
      ],
      "metadata": {
        "id": "MivPLC9zZo73"
      },
      "execution_count": null,
      "outputs": []
    },
    {
      "cell_type": "code",
      "source": [
        "# 질문하기\n",
        "query_text = \"What movies are sad romances?\"\n",
        "response = rag.search(query_text=query_text, retriever_config={\"top_k\": 5})\n",
        "print(response.answer)"
      ],
      "metadata": {
        "id": "t1kgHFZxRhW4",
        "colab": {
          "base_uri": "https://localhost:8080/"
        },
        "outputId": "657bb03f-34de-421f-97d1-722f8041d289"
      },
      "execution_count": null,
      "outputs": [
        {
          "output_type": "stream",
          "name": "stdout",
          "text": [
            "The movies that can be considered sad romances based on the provided context are:\n",
            "\n",
            "1. **Bed of Roses** - A romantic drama about a young career girl who is swept off her feet by a shy florist.\n",
            "2. **How to Make an American Quilt** - A bride-to-be hears tales of romance and sorrow from her elders as they construct a quilt.\n"
          ]
        }
      ]
    },
    {
      "cell_type": "markdown",
      "source": [
        "### 4-2. Text2Cypher Retriever로 만든 그래프 쿼리 결과 기반 RAG 방식"
      ],
      "metadata": {
        "id": "rum-Lhg1iDCC"
      }
    },
    {
      "cell_type": "code",
      "source": [
        "from neo4j_graphrag.retrievers import Text2CypherRetriever\n",
        "\n",
        "# 쿼리텍스트를 기반으로 Cypher 쿼리문을 생성하고, Retrieval 후 답변을 생성할 때 사용할 LLM\n",
        "llm = OpenAILLM(model_name=\"gpt-4o\", model_params={\"temperature\": 0})"
      ],
      "metadata": {
        "id": "pQhJOnzmaHl4"
      },
      "execution_count": null,
      "outputs": []
    },
    {
      "cell_type": "markdown",
      "source": [
        "### 1) Text2Cypher Retriever"
      ],
      "metadata": {
        "id": "3atYFUn5aiSN"
      }
    },
    {
      "cell_type": "markdown",
      "source": [
        "Cypher 자동생성을 위해 필요한 정보 제공\n",
        "- Neo4j DB Schema\n",
        "- Input / Output(Query) 예시"
      ],
      "metadata": {
        "id": "Lo9sTGD8aW8k"
      }
    },
    {
      "cell_type": "markdown",
      "source": [
        "Neo4j DB Schema 예시\n",
        "\n",
        "```\n",
        "Node properties:\n",
        "Person {name: STRING, born: INTEGER}\n",
        "Movie {tagline: STRING, title: STRING, released: INTEGER}\n",
        "Relationship properties:\n",
        "ACTED_IN {roles: LIST}\n",
        "REVIEWED {summary: STRING, rating: INTEGER}\n",
        "The relationships:\n",
        "(:Person)-[:ACTED_IN]->(:Movie)\n",
        "(:Person)-[:DIRECTED]->(:Movie)\n",
        "(:Person)-[:PRODUCED]->(:Movie)\n",
        "(:Person)-[:WROTE]->(:Movie)\n",
        "(:Person)-[:FOLLOWS]->(:Person)\n",
        "(:Person)-[:REVIEWED]->(:Movie)\n",
        "```"
      ],
      "metadata": {
        "id": "EG8yJzIFbQf3"
      }
    },
    {
      "cell_type": "code",
      "source": [
        "from neo4j import GraphDatabase\n",
        "from neo4j.time import Date\n",
        "\n",
        "def get_node_datatype(value):\n",
        "    \"\"\"\n",
        "        입력된 노드 Value의 데이터 타입을 반환하는 함수\n",
        "    \"\"\"\n",
        "    if isinstance(value, str):\n",
        "        return \"STRING\"\n",
        "    elif isinstance(value, int):\n",
        "        return \"INTEGER\"\n",
        "    elif isinstance(value, float):\n",
        "        return \"FLOAT\"\n",
        "    elif isinstance(value, bool):\n",
        "        return \"BOOLEAN\"\n",
        "    elif isinstance(value, list):\n",
        "        return f\"LIST[{get_node_datatype(value[0])}]\" if value else \"LIST\"\n",
        "    elif isinstance(value, Date):\n",
        "        return \"DATE\"\n",
        "    else:\n",
        "        return \"UNKNOWN\"\n",
        "\n",
        "def get_schema(uri, user, password):\n",
        "    \"\"\"\n",
        "        Graph DB의 정보를 받아 노드 및 관계의 프로퍼티를 추출하고 스키마 딕셔너리를 반환하는 함수\n",
        "    \"\"\"\n",
        "    driver = GraphDatabase.driver(\n",
        "        uri,\n",
        "        auth=basic_auth(user, password))\n",
        "\n",
        "    with driver.session() as session:\n",
        "        # 노드 프로퍼티 및 타입 추출\n",
        "        node_query = \"\"\"\n",
        "        MATCH (n)\n",
        "        WITH DISTINCT labels(n) AS node_labels, keys(n) AS property_keys, n\n",
        "        UNWIND node_labels AS label\n",
        "        UNWIND property_keys AS key\n",
        "        RETURN label, key, n[key] AS sample_value\n",
        "        \"\"\"\n",
        "        nodes = session.run(node_query)\n",
        "\n",
        "        # 관계 프로퍼티 및 타입 추출\n",
        "        rel_query = \"\"\"\n",
        "        MATCH ()-[r]->()\n",
        "        WITH DISTINCT type(r) AS rel_type, keys(r) AS property_keys, r\n",
        "        UNWIND property_keys AS key\n",
        "        RETURN rel_type, key, r[key] AS sample_value\n",
        "        \"\"\"\n",
        "        relationships = session.run(rel_query)\n",
        "\n",
        "        # 관계 유형 및 방향 추출\n",
        "        rel_direction_query = \"\"\"\n",
        "        MATCH (a)-[r]->(b)\n",
        "        RETURN DISTINCT labels(a) AS start_label, type(r) AS rel_type, labels(b) AS end_label\n",
        "        ORDER BY start_label, rel_type, end_label\n",
        "        \"\"\"\n",
        "        rel_directions = session.run(rel_direction_query)\n",
        "\n",
        "        # 스키마 딕셔너리 생성\n",
        "        schema = {\"nodes\": {}, \"relationships\": {}, \"relations\": []}\n",
        "\n",
        "        for record in nodes:\n",
        "            label = record[\"label\"]\n",
        "            key = record[\"key\"]\n",
        "            sample_value = record[\"sample_value\"] # 데이터 타입을 추론하기 위한 샘플 데이터\n",
        "            inferred_type = get_node_datatype(sample_value)\n",
        "            if label not in schema[\"nodes\"]:\n",
        "                schema[\"nodes\"][label] = {}\n",
        "            schema[\"nodes\"][label][key] = inferred_type\n",
        "\n",
        "        for record in relationships:\n",
        "            rel_type = record[\"rel_type\"]\n",
        "            key = record[\"key\"]\n",
        "            sample_value = record[\"sample_value\"] # 데이터 타입을 추론하기 위한 샘플 데이터\n",
        "            inferred_type = get_node_datatype(sample_value)\n",
        "            if rel_type not in schema[\"relationships\"]:\n",
        "                schema[\"relationships\"][rel_type] = {}\n",
        "            schema[\"relationships\"][rel_type][key] = inferred_type\n",
        "\n",
        "        for record in rel_directions:\n",
        "            start_label = record[\"start_label\"][0]\n",
        "            rel_type = record[\"rel_type\"]\n",
        "            end_label = record[\"end_label\"][0]\n",
        "            schema[\"relations\"].append(f\"(:{start_label})-[:{rel_type}]->(:{end_label})\")\n",
        "\n",
        "        return schema\n",
        "\n",
        "def format_schema(schema):\n",
        "    \"\"\"\n",
        "        스키마 딕셔너리를 LLM에 제공하기 위해 원하는 형태로 formatting 하는 함수\n",
        "    \"\"\"\n",
        "    result = []\n",
        "\n",
        "    # 노드 프로퍼티 출력\n",
        "    result.append(\"Node properties:\")\n",
        "    for label, properties in schema[\"nodes\"].items():\n",
        "        props = \", \".join(f\"{k}: {v}\" for k, v in properties.items())\n",
        "        result.append(f\"{label} {{{props}}}\")\n",
        "\n",
        "    # 관계 프로퍼티 출력\n",
        "    result.append(\"Relationship properties:\")\n",
        "    for rel_type, properties in schema[\"relationships\"].items():\n",
        "        props = \", \".join(f\"{k}: {v}\" for k, v in properties.items())\n",
        "        result.append(f\"{rel_type} {{{props}}}\")\n",
        "\n",
        "    # 관계 프로퍼티 출력\n",
        "    result.append(\"The relationships:\")\n",
        "    for relation in schema[\"relations\"]:\n",
        "        result.append(relation)\n",
        "\n",
        "    return \"\\n\".join(result)"
      ],
      "metadata": {
        "id": "7K4dX-ZjglEJ"
      },
      "execution_count": null,
      "outputs": []
    },
    {
      "cell_type": "code",
      "source": [
        "# Neo4j DB Schema 제공\n",
        "schema = get_schema(\"neo4j://52.91.251.109:7687\", \"neo4j\", \"rest-cast-tackles\")\n",
        "neo4j_schema = format_schema(schema)\n",
        "print(neo4j_schema)"
      ],
      "metadata": {
        "colab": {
          "base_uri": "https://localhost:8080/"
        },
        "id": "bR0vMbi5m_KE",
        "outputId": "46995524-c67e-4ea3-f5ab-ffbccc3db38b"
      },
      "execution_count": null,
      "outputs": [
        {
          "output_type": "stream",
          "name": "stdout",
          "text": [
            "Node properties:\n",
            "Movie {url: STRING, runtime: INTEGER, revenue: INTEGER, budget: INTEGER, plotEmbedding: LIST[FLOAT], imdbRating: FLOAT, released: STRING, countries: LIST[STRING], languages: LIST[STRING], plot: STRING, imdbVotes: INTEGER, imdbId: STRING, year: INTEGER, poster: STRING, movieId: STRING, tmdbId: STRING, title: STRING}\n",
            "Genre {name: STRING}\n",
            "User {userId: STRING, name: STRING}\n",
            "Actor {bornIn: STRING, born: DATE, died: DATE, tmdbId: STRING, imdbId: STRING, name: STRING, url: STRING, bio: STRING, poster: STRING}\n",
            "Person {bornIn: STRING, born: DATE, died: DATE, tmdbId: STRING, imdbId: STRING, name: STRING, url: STRING, bio: STRING, poster: STRING}\n",
            "Director {url: STRING, bornIn: STRING, bio: STRING, died: DATE, born: DATE, imdbId: STRING, name: STRING, poster: STRING, tmdbId: STRING}\n",
            "Database {name: STRING}\n",
            "Message {name: STRING}\n",
            "Relationship properties:\n",
            "RATED {rating: FLOAT, timestamp: INTEGER}\n",
            "ACTED_IN {role: STRING}\n",
            "DIRECTED {role: STRING}\n",
            "The relationships:\n",
            "(:Actor)-[:ACTED_IN]->(:Movie)\n",
            "(:Actor)-[:DIRECTED]->(:Movie)\n",
            "(:Actor)-[:ACTED_IN]->(:Movie)\n",
            "(:Database)-[:SAYS]->(:Message)\n",
            "(:Director)-[:DIRECTED]->(:Movie)\n",
            "(:Movie)-[:IN_GENRE]->(:Genre)\n",
            "(:User)-[:RATED]->(:Movie)\n"
          ]
        }
      ]
    },
    {
      "cell_type": "markdown",
      "source": [
        "- 사용자 입력 : Which actors starred in the Toy Story? (Toy Story 영화에 어떤 배우들이 출연하였나요?)\n",
        "\n",
        "- 자동 생성 Cypher 예시 : `MATCH (a:Actor)-[:ACTED_IN]->(m:Movie) WHERE m.title = 'Toy Story' RETURN a.name`"
      ],
      "metadata": {
        "id": "06C3lVZrthfd"
      }
    },
    {
      "cell_type": "code",
      "source": [
        "# LLM INPUT / QUERY 예시 제공\n",
        "examples = [\n",
        "    \"USER INPUT: 'Which actors starred in the Toy Story?' QUERY: MATCH (a:Actor)-[:ACTED_IN]->(m:Movie) WHERE m.title = 'Toy Story' RETURN a.name\",\n",
        "    \"USER INPUT: 'What is the average user rating for Toy Story?' QUERY: MATCH (u:User)-[r:RATED]->(m:Movie) WHERE m.title = 'Toy Story' RETURN AVG(r.rating)\"\n",
        "]"
      ],
      "metadata": {
        "id": "e_iS83oBLi-z"
      },
      "execution_count": null,
      "outputs": []
    },
    {
      "cell_type": "code",
      "source": [
        "# Text2CypherRetriever\n",
        "retriever = Text2CypherRetriever(\n",
        "    driver=driver,\n",
        "    llm=llm,  # type: ignore\n",
        "    neo4j_schema=neo4j_schema,\n",
        "    examples=examples,\n",
        ")\n",
        "\n",
        "# LLM을 통해 Cypher 쿼리를 생성하여 Neo4j DB에 보내고, 그 결과를 반환 => 이 결과는 RAG에 활용됨\n",
        "query_text = \"Which movies did Tom Hanks star in?\"\n",
        "search_result = retriever.search(query_text=query_text)"
      ],
      "metadata": {
        "id": "kfYUemK4ag8i"
      },
      "execution_count": null,
      "outputs": []
    },
    {
      "cell_type": "code",
      "source": [
        "search_result.items"
      ],
      "metadata": {
        "colab": {
          "base_uri": "https://localhost:8080/"
        },
        "id": "WqDmIWU7xKKY",
        "outputId": "29dc29a0-6102-4aa0-bbaf-696a4d745498"
      },
      "execution_count": null,
      "outputs": [
        {
          "output_type": "execute_result",
          "data": {
            "text/plain": [
              "[RetrieverResultItem(content=\"<Record m.title='Punchline'>\", metadata=None),\n",
              " RetrieverResultItem(content=\"<Record m.title='Catch Me If You Can'>\", metadata=None),\n",
              " RetrieverResultItem(content=\"<Record m.title='Dragnet'>\", metadata=None),\n",
              " RetrieverResultItem(content=\"<Record m.title='Saving Mr. Banks'>\", metadata=None),\n",
              " RetrieverResultItem(content=\"<Record m.title='Bachelor Party'>\", metadata=None),\n",
              " RetrieverResultItem(content=\"<Record m.title='Volunteers'>\", metadata=None),\n",
              " RetrieverResultItem(content=\"<Record m.title='Man with One Red Shoe, The'>\", metadata=None),\n",
              " RetrieverResultItem(content=\"<Record m.title='Splash'>\", metadata=None),\n",
              " RetrieverResultItem(content=\"<Record m.title='Big'>\", metadata=None),\n",
              " RetrieverResultItem(content=\"<Record m.title='Nothing in Common'>\", metadata=None),\n",
              " RetrieverResultItem(content=\"<Record m.title='Money Pit, The'>\", metadata=None),\n",
              " RetrieverResultItem(content=\"<Record m.title='Toy Story of Terror'>\", metadata=None),\n",
              " RetrieverResultItem(content=\"<Record m.title='Captain Phillips'>\", metadata=None),\n",
              " RetrieverResultItem(content=\"<Record m.title='Larry Crowne'>\", metadata=None),\n",
              " RetrieverResultItem(content=\"<Record m.title='Cloud Atlas'>\", metadata=None),\n",
              " RetrieverResultItem(content=\"<Record m.title='Angels & Demons'>\", metadata=None),\n",
              " RetrieverResultItem(content=\"<Record m.title='Extremely Loud and Incredibly Close'>\", metadata=None),\n",
              " RetrieverResultItem(content='<Record m.title=\"Charlie Wilson\\'s War\">', metadata=None),\n",
              " RetrieverResultItem(content=\"<Record m.title='Toy Story 3'>\", metadata=None),\n",
              " RetrieverResultItem(content=\"<Record m.title='From the Earth to the Moon'>\", metadata=None),\n",
              " RetrieverResultItem(content=\"<Record m.title='Green Mile, The'>\", metadata=None),\n",
              " RetrieverResultItem(content=\"<Record m.title='Saving Private Ryan'>\", metadata=None),\n",
              " RetrieverResultItem(content=\"<Record m.title='Toy Story 2'>\", metadata=None),\n",
              " RetrieverResultItem(content=\"<Record m.title='Apollo 13'>\", metadata=None),\n",
              " RetrieverResultItem(content=\"<Record m.title='Toy Story'>\", metadata=None),\n",
              " RetrieverResultItem(content=\"<Record m.title='League of Their Own, A'>\", metadata=None),\n",
              " RetrieverResultItem(content=\"<Record m.title='Forrest Gump'>\", metadata=None),\n",
              " RetrieverResultItem(content=\"<Record m.title='Philadelphia'>\", metadata=None),\n",
              " RetrieverResultItem(content=\"<Record m.title='Sleepless in Seattle'>\", metadata=None),\n",
              " RetrieverResultItem(content=\"<Record m.title='Turner & Hooch'>\", metadata=None),\n",
              " RetrieverResultItem(content='<Record m.title=\"\\'burbs, The\">', metadata=None),\n",
              " RetrieverResultItem(content=\"<Record m.title='Joe Versus the Volcano'>\", metadata=None),\n",
              " RetrieverResultItem(content=\"<Record m.title='Bonfire of the Vanities'>\", metadata=None),\n",
              " RetrieverResultItem(content=\"<Record m.title='Terminal, The'>\", metadata=None),\n",
              " RetrieverResultItem(content=\"<Record m.title='Da Vinci Code, The'>\", metadata=None),\n",
              " RetrieverResultItem(content=\"<Record m.title='Polar Express, The'>\", metadata=None),\n",
              " RetrieverResultItem(content=\"<Record m.title='Ladykillers, The'>\", metadata=None),\n",
              " RetrieverResultItem(content='<Record m.title=\"You\\'ve Got Mail\">', metadata=None)]"
            ]
          },
          "metadata": {},
          "execution_count": 40
        }
      ]
    },
    {
      "cell_type": "code",
      "source": [
        "search_result.metadata['cypher']"
      ],
      "metadata": {
        "colab": {
          "base_uri": "https://localhost:8080/",
          "height": 35
        },
        "id": "Bnl3Pbxqw5lH",
        "outputId": "213f09da-a3a1-4c65-9954-0d704ecc661b"
      },
      "execution_count": null,
      "outputs": [
        {
          "output_type": "execute_result",
          "data": {
            "text/plain": [
              "\"MATCH (a:Actor)-[:ACTED_IN]->(m:Movie) WHERE a.name = 'Tom Hanks' RETURN m.title\""
            ],
            "application/vnd.google.colaboratory.intrinsic+json": {
              "type": "string"
            }
          },
          "metadata": {},
          "execution_count": 38
        }
      ]
    },
    {
      "cell_type": "markdown",
      "source": [
        "### 2) Retriever 기반 RAG 생성"
      ],
      "metadata": {
        "id": "R-7ysjaRanj2"
      }
    },
    {
      "cell_type": "code",
      "source": [
        "# RAG 파이프라인 초기화\n",
        "rag = GraphRAG(retriever=retriever, llm=llm)"
      ],
      "metadata": {
        "id": "bTNvnFnXbKLS"
      },
      "execution_count": null,
      "outputs": []
    },
    {
      "cell_type": "code",
      "source": [
        "# 질문하기\n",
        "query_text = \"Which movies did Tom Hanks star in?\"\n",
        "\n",
        "search_result = retriever.search(query_text=query_text)\n",
        "print(\"==== [Text2Cypher 를 통해 자동생성한 Cypher] ====\")\n",
        "print(search_result.metadata['cypher'])\n",
        "\n",
        "response = rag.search(query_text=query_text)\n",
        "print(\"\\n==== [생성된 Cypher를 기반으로 최종답변생성] ====\")\n",
        "print(response.answer)"
      ],
      "metadata": {
        "id": "lG4yrSYoLqt6",
        "colab": {
          "base_uri": "https://localhost:8080/"
        },
        "outputId": "6141be8d-7e42-4b62-beb2-ebc34f84f606"
      },
      "execution_count": null,
      "outputs": [
        {
          "output_type": "stream",
          "name": "stdout",
          "text": [
            "==== [Text2Cypher 를 통해 자동생성한 Cypher] ====\n",
            "MATCH (a:Actor)-[:ACTED_IN]->(m:Movie) WHERE a.name = 'Tom Hanks' RETURN m.title\n",
            "\n",
            "==== [생성된 Cypher를 기반으로 최종답변생성] ====\n",
            "Tom Hanks starred in the following movies:\n",
            "\n",
            "- Punchline\n",
            "- Catch Me If You Can\n",
            "- Dragnet\n",
            "- Saving Mr. Banks\n",
            "- Bachelor Party\n",
            "- Volunteers\n",
            "- The Man with One Red Shoe\n",
            "- Splash\n",
            "- Big\n",
            "- Nothing in Common\n",
            "- The Money Pit\n",
            "- Toy Story of Terror\n",
            "- Captain Phillips\n",
            "- Larry Crowne\n",
            "- Cloud Atlas\n",
            "- Angels & Demons\n",
            "- Extremely Loud and Incredibly Close\n",
            "- Charlie Wilson's War\n",
            "- Toy Story 3\n",
            "- From the Earth to the Moon\n",
            "- The Green Mile\n",
            "- Saving Private Ryan\n",
            "- Toy Story 2\n",
            "- Apollo 13\n",
            "- Toy Story\n",
            "- A League of Their Own\n",
            "- Forrest Gump\n",
            "- Philadelphia\n",
            "- Sleepless in Seattle\n",
            "- Turner & Hooch\n",
            "- The 'burbs\n",
            "- Joe Versus the Volcano\n",
            "- The Bonfire of the Vanities\n",
            "- The Terminal\n",
            "- The Da Vinci Code\n",
            "- The Polar Express\n",
            "- The Ladykillers\n",
            "- You've Got Mail\n"
          ]
        }
      ]
    },
    {
      "cell_type": "code",
      "source": [
        "# 질문하기\n",
        "query_text = \"Recommend 10 movies from the Comedy genre\"\n",
        "search_result = retriever.search(query_text=query_text)\n",
        "print(\"==== [Text2Cypher 를 통해 자동생성한 Cypher] ====\")\n",
        "print(search_result.metadata['cypher'])\n",
        "\n",
        "response = rag.search(query_text=query_text)\n",
        "print(\"\\n==== [생성된 Cypher를 기반으로 최종답변생성] ====\")\n",
        "print(response.answer)"
      ],
      "metadata": {
        "colab": {
          "base_uri": "https://localhost:8080/"
        },
        "id": "WZU21VJjxWjT",
        "outputId": "d1ec27ce-6345-4a2d-9c0e-14f4a42050d5"
      },
      "execution_count": null,
      "outputs": [
        {
          "output_type": "stream",
          "name": "stdout",
          "text": [
            "==== [Text2Cypher 를 통해 자동생성한 Cypher] ====\n",
            "MATCH (m:Movie)-[:IN_GENRE]->(g:Genre) \n",
            "WHERE g.name = 'Comedy' \n",
            "RETURN m.title \n",
            "LIMIT 10\n",
            "\n",
            "==== [생성된 Cypher를 기반으로 최종답변생성] ====\n",
            "Here are 10 movies from the Comedy genre:\n",
            "\n",
            "1. Two Night Stand\n",
            "2. Stretch\n",
            "3. This Is Where I Leave You\n",
            "4. Tusk\n",
            "5. St. Vincent\n",
            "6. Rewrite, The\n",
            "7. Big Hero 6\n",
            "8. What We Do in the Shadows\n",
            "9. Let's Be Cops\n",
            "10. Boxtrolls, The\n"
          ]
        }
      ]
    },
    {
      "cell_type": "code",
      "source": [
        "# 질문하기\n",
        "query_text = \"Recommend only the top 5 movies with the most user reviews among Romance genre movies\"\n",
        "search_result = retriever.search(query_text=query_text)\n",
        "print(\"==== [Text2Cypher 를 통해 자동생성한 Cypher] ====\")\n",
        "print(search_result.metadata['cypher'])\n",
        "\n",
        "response = rag.search(query_text=query_text)\n",
        "print(\"\\n==== [생성된 Cypher를 기반으로 최종답변생성] ====\")\n",
        "print(response.answer)"
      ],
      "metadata": {
        "colab": {
          "base_uri": "https://localhost:8080/"
        },
        "id": "wQn9Ajbm2Vdb",
        "outputId": "1a9e539e-9bdd-4466-ac1f-6f084f518425"
      },
      "execution_count": null,
      "outputs": [
        {
          "output_type": "stream",
          "name": "stdout",
          "text": [
            "==== [Text2Cypher 를 통해 자동생성한 Cypher] ====\n",
            "MATCH (m:Movie)-[:IN_GENRE]->(g:Genre {name: 'Romance'})<-[:RATED]-(u:User)\n",
            "WITH m, COUNT(u) AS reviewCount\n",
            "RETURN m.title, reviewCount\n",
            "ORDER BY reviewCount DESC\n",
            "LIMIT 5\n",
            "\n",
            "==== [생성된 Cypher를 기반으로 최종답변생성] ====\n",
            "Sure, here are the top 5 Romance genre movies with the most user reviews:\n",
            "\n",
            "1. \"The Notebook\"\n",
            "2. \"Pride and Prejudice\"\n",
            "3. \"Titanic\"\n",
            "4. \"La La Land\"\n",
            "5. \"A Walk to Remember\"\n"
          ]
        }
      ]
    },
    {
      "cell_type": "code",
      "source": [],
      "metadata": {
        "id": "RnXkszVd23Ih"
      },
      "execution_count": null,
      "outputs": []
    }
  ]
}